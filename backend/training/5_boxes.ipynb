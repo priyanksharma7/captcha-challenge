{
 "cells": [
  {
   "cell_type": "markdown",
   "id": "3e9314e2-1039-4438-aae5-b601ae4ef8a4",
   "metadata": {},
   "source": [
    "# Part 2: Bounding Box Regressor v2\n",
    "Train a better CNN to recognize the coordinates for each symbol in a given image"
   ]
  },
  {
   "cell_type": "code",
   "execution_count": 1,
   "id": "9ecadf06-7f6b-4bc3-832b-56f17654d840",
   "metadata": {},
   "outputs": [],
   "source": [
    "import os\n",
    "import time\n",
    "import numpy as np\n",
    "import tensorflow as tf\n",
    "from tensorflow.keras import layers, models, optimizers, callbacks\n",
    "from PIL import Image, ImageDraw, ImageFont\n",
    "from random import randrange\n",
    "from IPython.display import display"
   ]
  },
  {
   "cell_type": "code",
   "execution_count": 2,
   "id": "7149f38a-b362-4998-99c0-149ce01bf187",
   "metadata": {},
   "outputs": [],
   "source": [
    "# Configuration\n",
    "WIDTH       =   200\n",
    "HEIGHT      =   100\n",
    "MINX        =    20\n",
    "MINY        =    20\n",
    "MAXX        =    WIDTH-60\n",
    "MAXY        =    HEIGHT-60\n",
    "MINSIZE     =    24\n",
    "MAXSIZE     =    48\n",
    "NUMCHARS    =     4 # 4 character CAPTCHA\n",
    "SYMBOL_SIZE =    50\n",
    "SYMBOL_SET  =    \"0123456789\"\n",
    "NUM_SYMBOLS =    len(SYMBOL_SET)\n",
    "FONTS_DIR   =    \"../fonts\"\n",
    "\n",
    "# Training hyperparameters\n",
    "BATCH_SIZE = 32\n",
    "EPOCHS = 200\n",
    "STEPS_PER_EPOCH = 500\n",
    "VALIDATION_STEPS = 50\n",
    "CHECKPOINT_PATH = \"../models/box_checkpoint.keras\""
   ]
  },
  {
   "cell_type": "code",
   "execution_count": 3,
   "id": "b842a242-46bc-4aa0-9ef4-514df1855e82",
   "metadata": {},
   "outputs": [],
   "source": [
    "def generate_captcha(return_image=False):\n",
    "    fonts = [i for i in os.listdir(FONTS_DIR) if i.endswith('.ttf')]\n",
    "    while True:\n",
    "        x_pos = 0\n",
    "        boxes = []\n",
    "        img = Image.new('RGB', (WIDTH, HEIGHT), color = (255,255,255))\n",
    "        canvas = ImageDraw.Draw(img)\n",
    "        for i in range(NUMCHARS):\n",
    "            font = ImageFont.truetype(f'{FONTS_DIR}/{fonts[randrange(len(fonts))]}', randrange(MINSIZE,MAXSIZE))\n",
    "            character = SYMBOL_SET[randrange(NUM_SYMBOLS)]\n",
    "            x_pos += randrange(10, MINX)\n",
    "            y_pos = randrange(MINY, MAXY)\n",
    "            position = (x_pos, y_pos)\n",
    "            coords = canvas.textbbox(position, character, font)\n",
    "            canvas.text(position, character, font=font, fill=(0,0,0), anchor=\"la\")\n",
    "            # Normalize the coordinates\n",
    "            boxes.append([coords[0]/WIDTH, coords[1]/HEIGHT, coords[2]/WIDTH, coords[3]/HEIGHT])\n",
    "            x_pos = coords[2]\n",
    "        x = np.asarray(img).astype(np.float32) / 255.0\n",
    "        y = np.array(boxes).flatten().astype(np.float32)\n",
    "        \n",
    "        if return_image:\n",
    "            yield x, y, img\n",
    "        else:\n",
    "            yield x, y"
   ]
  },
  {
   "cell_type": "code",
   "execution_count": 4,
   "id": "1316110c-4641-423e-87fb-9e942f72a650",
   "metadata": {},
   "outputs": [],
   "source": [
    "# Draw the boxes\n",
    "def draw_boxes(image, truth, pred=None):\n",
    "    w, h = image.size\n",
    "    canvas = ImageDraw.Draw(image)\n",
    "    # reshape to (N,4)\n",
    "    truth_boxes = np.array(truth).reshape(-1, 4)\n",
    "    pred_boxes  = np.array(pred).reshape(-1, 4) if pred is not None else None\n",
    "    \n",
    "    for i, (xmin, ymin, xmax, ymax) in enumerate(truth_boxes):\n",
    "        # scale back to pixel coordinates\n",
    "        x1, y1 = int(xmin * w), int(ymin * h)\n",
    "        x2, y2 = int(xmax * w), int(ymax * h)\n",
    "        print(\"Truth\", i+1, \":\", x1, y1, x2, y2)\n",
    "        canvas.rectangle([x1, y1, x2, y2], outline=\"green\", width=1)\n",
    "\n",
    "        if pred_boxes is not None:\n",
    "            pxmin, pymin, pxmax, pymax = pred_boxes[i]\n",
    "            px1, py1 = int(pxmin * w), int(pymin * h)\n",
    "            px2, py2 = int(pxmax * w), int(pymax * h)\n",
    "            print(\"Predicted\", i+1, \":\", px1, py1, px2, py2)\n",
    "            canvas.rectangle([px1, py1, px2, py2], outline=\"red\", width=1)\n",
    "    display(image)"
   ]
  },
  {
   "cell_type": "code",
   "execution_count": 5,
   "id": "5342f317-4ffe-4c20-9a61-1cd95c686af6",
   "metadata": {},
   "outputs": [
    {
     "name": "stdout",
     "output_type": "stream",
     "text": [
      "Truth 1 : 14 42 34 68\n",
      "Truth 2 : 52 33 80 69\n",
      "Truth 3 : 92 34 104 51\n",
      "Truth 4 : 122 36 133 58\n"
     ]
    },
    {
     "data": {
      "image/jpeg": "[encoded data removed]",
      "image/png": "[encoded data removed]",
      "text/plain": [
       "<PIL.Image.Image image mode=RGB size=200x100>"
      ]
     },
     "metadata": {},
     "output_type": "display_data"
    }
   ],
   "source": [
    "x, y, image = next(generate_captcha(return_image=True))\n",
    "draw_boxes(image, y)"
   ]
  },
  {
   "cell_type": "code",
   "execution_count": 6,
   "id": "2185dae7-7852-40e2-9b0a-827a73661d0a",
   "metadata": {},
   "outputs": [],
   "source": [
    "box_dataset = tf.data.Dataset.from_generator(generate_captcha,\n",
    "            output_signature=(tf.TensorSpec(shape=(HEIGHT, WIDTH, 3), dtype=tf.float32),\n",
    "                             tf.TensorSpec(shape=(4*NUMCHARS,), dtype=tf.float32)\n",
    "                             ))\n",
    "box_dataset = box_dataset.batch(BATCH_SIZE).prefetch(tf.data.AUTOTUNE)"
   ]
  },
  {
   "cell_type": "code",
   "execution_count": 7,
   "id": "6ac723c0-85be-4d15-989c-57831e0ccc71",
   "metadata": {},
   "outputs": [],
   "source": [
    "callbacks = [\n",
    "    callbacks.EarlyStopping(monitor='val_loss', patience=20, restore_best_weights=True),\n",
    "    callbacks.ReduceLROnPlateau(monitor='val_loss', patience=10, factor=0.5, min_lr=1e-6),\n",
    "    callbacks.ModelCheckpoint(CHECKPOINT_PATH, save_best_only=True, monitor=\"val_loss\")\n",
    "]\n",
    "\n",
    "box_model = models.Sequential([\n",
    "    layers.Input(shape=(HEIGHT, WIDTH, 3)),\n",
    "\n",
    "    layers.Conv2D(32, 3, padding='same'), layers.BatchNormalization(), layers.ReLU(),\n",
    "    layers.MaxPooling2D(2),\n",
    "\n",
    "    layers.Conv2D(64, 3, padding='same'), layers.BatchNormalization(), layers.ReLU(),\n",
    "    layers.MaxPooling2D(2),\n",
    "\n",
    "    layers.Conv2D(128, 3, padding='same'), layers.BatchNormalization(), layers.ReLU(),\n",
    "    layers.MaxPooling2D(2),\n",
    "\n",
    "    layers.Conv2D(256, 3, padding='same'), layers.BatchNormalization(), layers.ReLU(),\n",
    "    layers.MaxPooling2D(2),\n",
    "\n",
    "    layers.Flatten(),\n",
    "    layers.Dense(256, activation='relu'),\n",
    "    layers.Dropout(0.3),\n",
    "    layers.Dense(128, activation='relu'),\n",
    "    layers.Dropout(0.2),\n",
    "    layers.Dense(4 * NUMCHARS, activation='sigmoid')\n",
    "])\n",
    "\n",
    "\n",
    "box_model.compile(loss='mse', optimizer=optimizers.Adam(learning_rate=1e-4), metrics=['mae'], run_eagerly=False)"
   ]
  },
  {
   "cell_type": "code",
   "execution_count": 8,
   "id": "f46abac6-a031-4bf5-aa16-16471ac8f2e0",
   "metadata": {
    "scrolled": true
   },
   "outputs": [
    {
     "name": "stdout",
     "output_type": "stream",
     "text": [
      "Loading weights from checkpoint...\n",
      "Epoch 1/200\n"
     ]
    },
    {
     "name": "stderr",
     "output_type": "stream",
     "text": [
      "C:\\Users\\priya\\anaconda3\\envs\\sec595\\Lib\\site-packages\\keras\\src\\saving\\saving_lib.py:757: UserWarning: Skipping variable loading for optimizer 'adam', because it has 2 variables whereas the saved optimizer has 46 variables. \n",
      "  saveable.load_own_variables(weights_store.get(inner_path))\n"
     ]
    },
    {
     "name": "stdout",
     "output_type": "stream",
     "text": [
      "\u001b[1m500/500\u001b[0m \u001b[32m━━━━━━━━━━━━━━━━━━━━\u001b[0m\u001b[37m\u001b[0m \u001b[1m316s\u001b[0m 623ms/step - loss: 9.3161e-04 - mae: 0.0231 - val_loss: 0.0012 - val_mae: 0.0272 - learning_rate: 1.0000e-04\n",
      "Epoch 2/200\n",
      "\u001b[1m500/500\u001b[0m \u001b[32m━━━━━━━━━━━━━━━━━━━━\u001b[0m\u001b[37m\u001b[0m \u001b[1m309s\u001b[0m 618ms/step - loss: 9.1372e-04 - mae: 0.0229 - val_loss: 5.9658e-04 - val_mae: 0.0190 - learning_rate: 1.0000e-04\n",
      "Epoch 3/200\n",
      "\u001b[1m500/500\u001b[0m \u001b[32m━━━━━━━━━━━━━━━━━━━━\u001b[0m\u001b[37m\u001b[0m \u001b[1m309s\u001b[0m 618ms/step - loss: 9.0197e-04 - mae: 0.0228 - val_loss: 7.2344e-04 - val_mae: 0.0209 - learning_rate: 1.0000e-04\n",
      "Epoch 4/200\n",
      "\u001b[1m500/500\u001b[0m \u001b[32m━━━━━━━━━━━━━━━━━━━━\u001b[0m\u001b[37m\u001b[0m \u001b[1m316s\u001b[0m 631ms/step - loss: 9.0058e-04 - mae: 0.0227 - val_loss: 7.3536e-04 - val_mae: 0.0210 - learning_rate: 1.0000e-04\n",
      "Epoch 5/200\n",
      "\u001b[1m500/500\u001b[0m \u001b[32m━━━━━━━━━━━━━━━━━━━━\u001b[0m\u001b[37m\u001b[0m \u001b[1m313s\u001b[0m 625ms/step - loss: 8.6484e-04 - mae: 0.0223 - val_loss: 7.8314e-04 - val_mae: 0.0216 - learning_rate: 1.0000e-04\n",
      "Epoch 6/200\n",
      "\u001b[1m500/500\u001b[0m \u001b[32m━━━━━━━━━━━━━━━━━━━━\u001b[0m\u001b[37m\u001b[0m \u001b[1m316s\u001b[0m 631ms/step - loss: 8.6935e-04 - mae: 0.0223 - val_loss: 6.5491e-04 - val_mae: 0.0198 - learning_rate: 1.0000e-04\n",
      "Epoch 7/200\n",
      "\u001b[1m500/500\u001b[0m \u001b[32m━━━━━━━━━━━━━━━━━━━━\u001b[0m\u001b[37m\u001b[0m \u001b[1m315s\u001b[0m 629ms/step - loss: 8.4853e-04 - mae: 0.0221 - val_loss: 7.6995e-04 - val_mae: 0.0220 - learning_rate: 1.0000e-04\n",
      "Epoch 8/200\n",
      "\u001b[1m500/500\u001b[0m \u001b[32m━━━━━━━━━━━━━━━━━━━━\u001b[0m\u001b[37m\u001b[0m \u001b[1m315s\u001b[0m 631ms/step - loss: 8.4065e-04 - mae: 0.0219 - val_loss: 6.3455e-04 - val_mae: 0.0195 - learning_rate: 1.0000e-04\n",
      "Epoch 9/200\n",
      "\u001b[1m500/500\u001b[0m \u001b[32m━━━━━━━━━━━━━━━━━━━━\u001b[0m\u001b[37m\u001b[0m \u001b[1m317s\u001b[0m 635ms/step - loss: 8.3205e-04 - mae: 0.0218 - val_loss: 5.5811e-04 - val_mae: 0.0181 - learning_rate: 1.0000e-04\n",
      "Epoch 10/200\n",
      "\u001b[1m500/500\u001b[0m \u001b[32m━━━━━━━━━━━━━━━━━━━━\u001b[0m\u001b[37m\u001b[0m \u001b[1m316s\u001b[0m 632ms/step - loss: 8.1010e-04 - mae: 0.0214 - val_loss: 6.3193e-04 - val_mae: 0.0195 - learning_rate: 1.0000e-04\n",
      "Epoch 11/200\n",
      "\u001b[1m500/500\u001b[0m \u001b[32m━━━━━━━━━━━━━━━━━━━━\u001b[0m\u001b[37m\u001b[0m \u001b[1m315s\u001b[0m 630ms/step - loss: 8.1679e-04 - mae: 0.0215 - val_loss: 0.0014 - val_mae: 0.0299 - learning_rate: 1.0000e-04\n",
      "Epoch 12/200\n",
      "\u001b[1m500/500\u001b[0m \u001b[32m━━━━━━━━━━━━━━━━━━━━\u001b[0m\u001b[37m\u001b[0m \u001b[1m317s\u001b[0m 634ms/step - loss: 8.0497e-04 - mae: 0.0214 - val_loss: 7.5278e-04 - val_mae: 0.0210 - learning_rate: 1.0000e-04\n",
      "Epoch 13/200\n",
      "\u001b[1m500/500\u001b[0m \u001b[32m━━━━━━━━━━━━━━━━━━━━\u001b[0m\u001b[37m\u001b[0m \u001b[1m316s\u001b[0m 632ms/step - loss: 7.8681e-04 - mae: 0.0211 - val_loss: 6.3073e-04 - val_mae: 0.0195 - learning_rate: 5.0000e-05\n",
      "Epoch 14/200\n",
      "\u001b[1m500/500\u001b[0m \u001b[32m━━━━━━━━━━━━━━━━━━━━\u001b[0m\u001b[37m\u001b[0m \u001b[1m316s\u001b[0m 632ms/step - loss: 7.5951e-04 - mae: 0.0208 - val_loss: 6.4281e-04 - val_mae: 0.0198 - learning_rate: 5.0000e-05\n",
      "Epoch 15/200\n",
      "\u001b[1m500/500\u001b[0m \u001b[32m━━━━━━━━━━━━━━━━━━━━\u001b[0m\u001b[37m\u001b[0m \u001b[1m317s\u001b[0m 633ms/step - loss: 7.5834e-04 - mae: 0.0208 - val_loss: 5.9365e-04 - val_mae: 0.0189 - learning_rate: 5.0000e-05\n",
      "Epoch 16/200\n",
      "\u001b[1m500/500\u001b[0m \u001b[32m━━━━━━━━━━━━━━━━━━━━\u001b[0m\u001b[37m\u001b[0m \u001b[1m317s\u001b[0m 633ms/step - loss: 7.5302e-04 - mae: 0.0207 - val_loss: 6.5099e-04 - val_mae: 0.0195 - learning_rate: 5.0000e-05\n",
      "Epoch 17/200\n",
      "\u001b[1m500/500\u001b[0m \u001b[32m━━━━━━━━━━━━━━━━━━━━\u001b[0m\u001b[37m\u001b[0m \u001b[1m318s\u001b[0m 636ms/step - loss: 7.4911e-04 - mae: 0.0206 - val_loss: 5.5313e-04 - val_mae: 0.0182 - learning_rate: 5.0000e-05\n",
      "Epoch 18/200\n",
      "\u001b[1m500/500\u001b[0m \u001b[32m━━━━━━━━━━━━━━━━━━━━\u001b[0m\u001b[37m\u001b[0m \u001b[1m318s\u001b[0m 635ms/step - loss: 7.3227e-04 - mae: 0.0204 - val_loss: 6.4456e-04 - val_mae: 0.0193 - learning_rate: 5.0000e-05\n",
      "Epoch 19/200\n",
      "\u001b[1m500/500\u001b[0m \u001b[32m━━━━━━━━━━━━━━━━━━━━\u001b[0m\u001b[37m\u001b[0m \u001b[1m318s\u001b[0m 636ms/step - loss: 7.4214e-04 - mae: 0.0206 - val_loss: 6.1507e-04 - val_mae: 0.0188 - learning_rate: 5.0000e-05\n",
      "Epoch 20/200\n",
      "\u001b[1m500/500\u001b[0m \u001b[32m━━━━━━━━━━━━━━━━━━━━\u001b[0m\u001b[37m\u001b[0m \u001b[1m317s\u001b[0m 635ms/step - loss: 7.1674e-04 - mae: 0.0202 - val_loss: 7.1841e-04 - val_mae: 0.0205 - learning_rate: 5.0000e-05\n",
      "Epoch 21/200\n",
      "\u001b[1m500/500\u001b[0m \u001b[32m━━━━━━━━━━━━━━━━━━━━\u001b[0m\u001b[37m\u001b[0m \u001b[1m320s\u001b[0m 639ms/step - loss: 7.1081e-04 - mae: 0.0201 - val_loss: 5.9510e-04 - val_mae: 0.0188 - learning_rate: 5.0000e-05\n",
      "Epoch 22/200\n",
      "\u001b[1m500/500\u001b[0m \u001b[32m━━━━━━━━━━━━━━━━━━━━\u001b[0m\u001b[37m\u001b[0m \u001b[1m320s\u001b[0m 640ms/step - loss: 7.2140e-04 - mae: 0.0203 - val_loss: 5.4931e-04 - val_mae: 0.0182 - learning_rate: 5.0000e-05\n",
      "Epoch 23/200\n",
      "\u001b[1m500/500\u001b[0m \u001b[32m━━━━━━━━━━━━━━━━━━━━\u001b[0m\u001b[37m\u001b[0m \u001b[1m318s\u001b[0m 636ms/step - loss: 7.1249e-04 - mae: 0.0201 - val_loss: 5.9226e-04 - val_mae: 0.0186 - learning_rate: 2.5000e-05\n",
      "Epoch 24/200\n",
      "\u001b[1m500/500\u001b[0m \u001b[32m━━━━━━━━━━━━━━━━━━━━\u001b[0m\u001b[37m\u001b[0m \u001b[1m320s\u001b[0m 639ms/step - loss: 7.1293e-04 - mae: 0.0201 - val_loss: 5.4149e-04 - val_mae: 0.0179 - learning_rate: 2.5000e-05\n",
      "Epoch 25/200\n",
      "\u001b[1m500/500\u001b[0m \u001b[32m━━━━━━━━━━━━━━━━━━━━\u001b[0m\u001b[37m\u001b[0m \u001b[1m320s\u001b[0m 640ms/step - loss: 7.0596e-04 - mae: 0.0200 - val_loss: 5.2452e-04 - val_mae: 0.0175 - learning_rate: 2.5000e-05\n",
      "Epoch 26/200\n",
      "\u001b[1m500/500\u001b[0m \u001b[32m━━━━━━━━━━━━━━━━━━━━\u001b[0m\u001b[37m\u001b[0m \u001b[1m318s\u001b[0m 636ms/step - loss: 7.1041e-04 - mae: 0.0201 - val_loss: 5.2829e-04 - val_mae: 0.0176 - learning_rate: 2.5000e-05\n",
      "Epoch 27/200\n",
      "\u001b[1m500/500\u001b[0m \u001b[32m━━━━━━━━━━━━━━━━━━━━\u001b[0m\u001b[37m\u001b[0m \u001b[1m318s\u001b[0m 635ms/step - loss: 6.8847e-04 - mae: 0.0198 - val_loss: 5.6899e-04 - val_mae: 0.0183 - learning_rate: 2.5000e-05\n",
      "Epoch 28/200\n",
      "\u001b[1m500/500\u001b[0m \u001b[32m━━━━━━━━━━━━━━━━━━━━\u001b[0m\u001b[37m\u001b[0m \u001b[1m319s\u001b[0m 638ms/step - loss: 6.9055e-04 - mae: 0.0198 - val_loss: 5.5127e-04 - val_mae: 0.0180 - learning_rate: 2.5000e-05\n",
      "Epoch 29/200\n",
      "\u001b[1m500/500\u001b[0m \u001b[32m━━━━━━━━━━━━━━━━━━━━\u001b[0m\u001b[37m\u001b[0m \u001b[1m318s\u001b[0m 637ms/step - loss: 6.8335e-04 - mae: 0.0197 - val_loss: 5.8072e-04 - val_mae: 0.0183 - learning_rate: 2.5000e-05\n",
      "Epoch 30/200\n",
      "\u001b[1m500/500\u001b[0m \u001b[32m━━━━━━━━━━━━━━━━━━━━\u001b[0m\u001b[37m\u001b[0m \u001b[1m320s\u001b[0m 640ms/step - loss: 6.8814e-04 - mae: 0.0198 - val_loss: 5.1816e-04 - val_mae: 0.0174 - learning_rate: 2.5000e-05\n",
      "Epoch 31/200\n",
      "\u001b[1m500/500\u001b[0m \u001b[32m━━━━━━━━━━━━━━━━━━━━\u001b[0m\u001b[37m\u001b[0m \u001b[1m318s\u001b[0m 637ms/step - loss: 6.8753e-04 - mae: 0.0197 - val_loss: 5.1859e-04 - val_mae: 0.0175 - learning_rate: 2.5000e-05\n",
      "Epoch 32/200\n",
      "\u001b[1m500/500\u001b[0m \u001b[32m━━━━━━━━━━━━━━━━━━━━\u001b[0m\u001b[37m\u001b[0m \u001b[1m320s\u001b[0m 639ms/step - loss: 6.7753e-04 - mae: 0.0197 - val_loss: 5.6067e-04 - val_mae: 0.0180 - learning_rate: 2.5000e-05\n",
      "Epoch 33/200\n",
      "\u001b[1m500/500\u001b[0m \u001b[32m━━━━━━━━━━━━━━━━━━━━\u001b[0m\u001b[37m\u001b[0m \u001b[1m319s\u001b[0m 637ms/step - loss: 6.8279e-04 - mae: 0.0197 - val_loss: 5.2015e-04 - val_mae: 0.0175 - learning_rate: 1.2500e-05\n",
      "Epoch 34/200\n",
      "\u001b[1m500/500\u001b[0m \u001b[32m━━━━━━━━━━━━━━━━━━━━\u001b[0m\u001b[37m\u001b[0m \u001b[1m319s\u001b[0m 639ms/step - loss: 6.7846e-04 - mae: 0.0196 - val_loss: 5.6864e-04 - val_mae: 0.0182 - learning_rate: 1.2500e-05\n",
      "Epoch 35/200\n",
      "\u001b[1m500/500\u001b[0m \u001b[32m━━━━━━━━━━━━━━━━━━━━\u001b[0m\u001b[37m\u001b[0m \u001b[1m320s\u001b[0m 639ms/step - loss: 6.8870e-04 - mae: 0.0197 - val_loss: 5.2385e-04 - val_mae: 0.0175 - learning_rate: 1.2500e-05\n",
      "Epoch 36/200\n",
      "\u001b[1m500/500\u001b[0m \u001b[32m━━━━━━━━━━━━━━━━━━━━\u001b[0m\u001b[37m\u001b[0m \u001b[1m319s\u001b[0m 637ms/step - loss: 6.7842e-04 - mae: 0.0197 - val_loss: 5.3324e-04 - val_mae: 0.0176 - learning_rate: 1.2500e-05\n",
      "Epoch 37/200\n",
      "\u001b[1m500/500\u001b[0m \u001b[32m━━━━━━━━━━━━━━━━━━━━\u001b[0m\u001b[37m\u001b[0m \u001b[1m319s\u001b[0m 637ms/step - loss: 6.8254e-04 - mae: 0.0196 - val_loss: 5.2393e-04 - val_mae: 0.0177 - learning_rate: 1.2500e-05\n",
      "Epoch 38/200\n",
      "\u001b[1m500/500\u001b[0m \u001b[32m━━━━━━━━━━━━━━━━━━━━\u001b[0m\u001b[37m\u001b[0m \u001b[1m320s\u001b[0m 639ms/step - loss: 6.6668e-04 - mae: 0.0195 - val_loss: 5.3583e-04 - val_mae: 0.0178 - learning_rate: 1.2500e-05\n",
      "Epoch 39/200\n",
      "\u001b[1m500/500\u001b[0m \u001b[32m━━━━━━━━━━━━━━━━━━━━\u001b[0m\u001b[37m\u001b[0m \u001b[1m321s\u001b[0m 642ms/step - loss: 6.7466e-04 - mae: 0.0195 - val_loss: 5.1684e-04 - val_mae: 0.0174 - learning_rate: 1.2500e-05\n",
      "Epoch 40/200\n",
      "\u001b[1m500/500\u001b[0m \u001b[32m━━━━━━━━━━━━━━━━━━━━\u001b[0m\u001b[37m\u001b[0m \u001b[1m319s\u001b[0m 638ms/step - loss: 6.7810e-04 - mae: 0.0197 - val_loss: 5.5679e-04 - val_mae: 0.0180 - learning_rate: 1.2500e-05\n",
      "Epoch 41/200\n",
      "\u001b[1m500/500\u001b[0m \u001b[32m━━━━━━━━━━━━━━━━━━━━\u001b[0m\u001b[37m\u001b[0m \u001b[1m319s\u001b[0m 637ms/step - loss: 6.7916e-04 - mae: 0.0196 - val_loss: 5.2625e-04 - val_mae: 0.0175 - learning_rate: 1.2500e-05\n",
      "Epoch 42/200\n",
      "\u001b[1m500/500\u001b[0m \u001b[32m━━━━━━━━━━━━━━━━━━━━\u001b[0m\u001b[37m\u001b[0m \u001b[1m319s\u001b[0m 638ms/step - loss: 6.6532e-04 - mae: 0.0195 - val_loss: 5.2762e-04 - val_mae: 0.0176 - learning_rate: 1.2500e-05\n",
      "Epoch 43/200\n",
      "\u001b[1m500/500\u001b[0m \u001b[32m━━━━━━━━━━━━━━━━━━━━\u001b[0m\u001b[37m\u001b[0m \u001b[1m320s\u001b[0m 639ms/step - loss: 6.5804e-04 - mae: 0.0193 - val_loss: 5.3203e-04 - val_mae: 0.0176 - learning_rate: 6.2500e-06\n",
      "Epoch 44/200\n",
      "\u001b[1m500/500\u001b[0m \u001b[32m━━━━━━━━━━━━━━━━━━━━\u001b[0m\u001b[37m\u001b[0m \u001b[1m319s\u001b[0m 638ms/step - loss: 6.7132e-04 - mae: 0.0195 - val_loss: 5.3592e-04 - val_mae: 0.0177 - learning_rate: 6.2500e-06\n",
      "Epoch 45/200\n",
      "\u001b[1m500/500\u001b[0m \u001b[32m━━━━━━━━━━━━━━━━━━━━\u001b[0m\u001b[37m\u001b[0m \u001b[1m320s\u001b[0m 639ms/step - loss: 6.6779e-04 - mae: 0.0195 - val_loss: 5.2612e-04 - val_mae: 0.0177 - learning_rate: 6.2500e-06\n",
      "Epoch 46/200\n",
      "\u001b[1m500/500\u001b[0m \u001b[32m━━━━━━━━━━━━━━━━━━━━\u001b[0m\u001b[37m\u001b[0m \u001b[1m322s\u001b[0m 644ms/step - loss: 6.6899e-04 - mae: 0.0195 - val_loss: 5.1523e-04 - val_mae: 0.0174 - learning_rate: 6.2500e-06\n",
      "Epoch 47/200\n",
      "\u001b[1m500/500\u001b[0m \u001b[32m━━━━━━━━━━━━━━━━━━━━\u001b[0m\u001b[37m\u001b[0m \u001b[1m319s\u001b[0m 639ms/step - loss: 6.5910e-04 - mae: 0.0194 - val_loss: 5.2624e-04 - val_mae: 0.0176 - learning_rate: 6.2500e-06\n",
      "Epoch 48/200\n",
      "\u001b[1m500/500\u001b[0m \u001b[32m━━━━━━━━━━━━━━━━━━━━\u001b[0m\u001b[37m\u001b[0m \u001b[1m319s\u001b[0m 639ms/step - loss: 6.6131e-04 - mae: 0.0194 - val_loss: 5.1845e-04 - val_mae: 0.0174 - learning_rate: 6.2500e-06\n",
      "Epoch 49/200\n",
      "\u001b[1m500/500\u001b[0m \u001b[32m━━━━━━━━━━━━━━━━━━━━\u001b[0m\u001b[37m\u001b[0m \u001b[1m320s\u001b[0m 641ms/step - loss: 6.5363e-04 - mae: 0.0193 - val_loss: 5.2415e-04 - val_mae: 0.0176 - learning_rate: 6.2500e-06\n",
      "Epoch 50/200\n",
      "\u001b[1m500/500\u001b[0m \u001b[32m━━━━━━━━━━━━━━━━━━━━\u001b[0m\u001b[37m\u001b[0m \u001b[1m319s\u001b[0m 639ms/step - loss: 6.6399e-04 - mae: 0.0195 - val_loss: 5.1973e-04 - val_mae: 0.0174 - learning_rate: 6.2500e-06\n",
      "Epoch 51/200\n",
      "\u001b[1m500/500\u001b[0m \u001b[32m━━━━━━━━━━━━━━━━━━━━\u001b[0m\u001b[37m\u001b[0m \u001b[1m320s\u001b[0m 641ms/step - loss: 6.6474e-04 - mae: 0.0194 - val_loss: 5.1635e-04 - val_mae: 0.0174 - learning_rate: 6.2500e-06\n",
      "Epoch 52/200\n",
      "\u001b[1m500/500\u001b[0m \u001b[32m━━━━━━━━━━━━━━━━━━━━\u001b[0m\u001b[37m\u001b[0m \u001b[1m321s\u001b[0m 642ms/step - loss: 6.6151e-04 - mae: 0.0193 - val_loss: 5.2939e-04 - val_mae: 0.0176 - learning_rate: 6.2500e-06\n",
      "Epoch 53/200\n",
      "\u001b[1m500/500\u001b[0m \u001b[32m━━━━━━━━━━━━━━━━━━━━\u001b[0m\u001b[37m\u001b[0m \u001b[1m320s\u001b[0m 641ms/step - loss: 6.6105e-04 - mae: 0.0194 - val_loss: 5.1963e-04 - val_mae: 0.0174 - learning_rate: 3.1250e-06\n",
      "Epoch 54/200\n",
      "\u001b[1m500/500\u001b[0m \u001b[32m━━━━━━━━━━━━━━━━━━━━\u001b[0m\u001b[37m\u001b[0m \u001b[1m321s\u001b[0m 642ms/step - loss: 6.6145e-04 - mae: 0.0194 - val_loss: 5.3059e-04 - val_mae: 0.0177 - learning_rate: 3.1250e-06\n",
      "Epoch 55/200\n",
      "\u001b[1m500/500\u001b[0m \u001b[32m━━━━━━━━━━━━━━━━━━━━\u001b[0m\u001b[37m\u001b[0m \u001b[1m321s\u001b[0m 641ms/step - loss: 6.6328e-04 - mae: 0.0194 - val_loss: 5.1576e-04 - val_mae: 0.0174 - learning_rate: 3.1250e-06\n",
      "Epoch 56/200\n",
      "\u001b[1m500/500\u001b[0m \u001b[32m━━━━━━━━━━━━━━━━━━━━\u001b[0m\u001b[37m\u001b[0m \u001b[1m320s\u001b[0m 639ms/step - loss: 6.5877e-04 - mae: 0.0193 - val_loss: 5.2289e-04 - val_mae: 0.0175 - learning_rate: 3.1250e-06\n",
      "Epoch 57/200\n",
      "\u001b[1m500/500\u001b[0m \u001b[32m━━━━━━━━━━━━━━━━━━━━\u001b[0m\u001b[37m\u001b[0m \u001b[1m322s\u001b[0m 644ms/step - loss: 6.6204e-04 - mae: 0.0194 - val_loss: 5.3007e-04 - val_mae: 0.0176 - learning_rate: 3.1250e-06\n",
      "Epoch 58/200\n",
      "\u001b[1m500/500\u001b[0m \u001b[32m━━━━━━━━━━━━━━━━━━━━\u001b[0m\u001b[37m\u001b[0m \u001b[1m323s\u001b[0m 646ms/step - loss: 6.6171e-04 - mae: 0.0193 - val_loss: 5.0361e-04 - val_mae: 0.0173 - learning_rate: 3.1250e-06\n",
      "Epoch 59/200\n",
      "\u001b[1m500/500\u001b[0m \u001b[32m━━━━━━━━━━━━━━━━━━━━\u001b[0m\u001b[37m\u001b[0m \u001b[1m320s\u001b[0m 640ms/step - loss: 6.6504e-04 - mae: 0.0194 - val_loss: 5.1337e-04 - val_mae: 0.0174 - learning_rate: 3.1250e-06\n",
      "Epoch 60/200\n",
      "\u001b[1m500/500\u001b[0m \u001b[32m━━━━━━━━━━━━━━━━━━━━\u001b[0m\u001b[37m\u001b[0m \u001b[1m321s\u001b[0m 642ms/step - loss: 6.5787e-04 - mae: 0.0193 - val_loss: 5.1350e-04 - val_mae: 0.0174 - learning_rate: 3.1250e-06\n",
      "Epoch 61/200\n",
      "\u001b[1m500/500\u001b[0m \u001b[32m━━━━━━━━━━━━━━━━━━━━\u001b[0m\u001b[37m\u001b[0m \u001b[1m320s\u001b[0m 640ms/step - loss: 6.6201e-04 - mae: 0.0194 - val_loss: 5.2380e-04 - val_mae: 0.0175 - learning_rate: 3.1250e-06\n",
      "Epoch 62/200\n",
      "\u001b[1m500/500\u001b[0m \u001b[32m━━━━━━━━━━━━━━━━━━━━\u001b[0m\u001b[37m\u001b[0m \u001b[1m321s\u001b[0m 642ms/step - loss: 6.6970e-04 - mae: 0.0194 - val_loss: 5.3041e-04 - val_mae: 0.0176 - learning_rate: 3.1250e-06\n",
      "Epoch 63/200\n",
      "\u001b[1m500/500\u001b[0m \u001b[32m━━━━━━━━━━━━━━━━━━━━\u001b[0m\u001b[37m\u001b[0m \u001b[1m321s\u001b[0m 641ms/step - loss: 6.5006e-04 - mae: 0.0192 - val_loss: 5.3356e-04 - val_mae: 0.0177 - learning_rate: 1.5625e-06\n",
      "Epoch 64/200\n",
      "\u001b[1m500/500\u001b[0m \u001b[32m━━━━━━━━━━━━━━━━━━━━\u001b[0m\u001b[37m\u001b[0m \u001b[1m321s\u001b[0m 641ms/step - loss: 6.5872e-04 - mae: 0.0194 - val_loss: 5.2923e-04 - val_mae: 0.0176 - learning_rate: 1.5625e-06\n",
      "Epoch 65/200\n",
      "\u001b[1m500/500\u001b[0m \u001b[32m━━━━━━━━━━━━━━━━━━━━\u001b[0m\u001b[37m\u001b[0m \u001b[1m320s\u001b[0m 640ms/step - loss: 6.5735e-04 - mae: 0.0193 - val_loss: 5.1513e-04 - val_mae: 0.0174 - learning_rate: 1.5625e-06\n",
      "Epoch 66/200\n",
      "\u001b[1m500/500\u001b[0m \u001b[32m━━━━━━━━━━━━━━━━━━━━\u001b[0m\u001b[37m\u001b[0m \u001b[1m321s\u001b[0m 642ms/step - loss: 6.6479e-04 - mae: 0.0194 - val_loss: 5.4057e-04 - val_mae: 0.0178 - learning_rate: 1.5625e-06\n",
      "Epoch 67/200\n",
      "\u001b[1m500/500\u001b[0m \u001b[32m━━━━━━━━━━━━━━━━━━━━\u001b[0m\u001b[37m\u001b[0m \u001b[1m320s\u001b[0m 641ms/step - loss: 6.6039e-04 - mae: 0.0194 - val_loss: 5.2009e-04 - val_mae: 0.0174 - learning_rate: 1.5625e-06\n",
      "Epoch 68/200\n",
      "\u001b[1m500/500\u001b[0m \u001b[32m━━━━━━━━━━━━━━━━━━━━\u001b[0m\u001b[37m\u001b[0m \u001b[1m322s\u001b[0m 645ms/step - loss: 6.5602e-04 - mae: 0.0193 - val_loss: 5.2603e-04 - val_mae: 0.0175 - learning_rate: 1.5625e-06\n",
      "Epoch 69/200\n",
      "\u001b[1m500/500\u001b[0m \u001b[32m━━━━━━━━━━━━━━━━━━━━\u001b[0m\u001b[37m\u001b[0m \u001b[1m320s\u001b[0m 641ms/step - loss: 6.6098e-04 - mae: 0.0193 - val_loss: 5.2151e-04 - val_mae: 0.0175 - learning_rate: 1.5625e-06\n",
      "Epoch 70/200\n",
      "\u001b[1m500/500\u001b[0m \u001b[32m━━━━━━━━━━━━━━━━━━━━\u001b[0m\u001b[37m\u001b[0m \u001b[1m320s\u001b[0m 640ms/step - loss: 6.5717e-04 - mae: 0.0193 - val_loss: 5.2491e-04 - val_mae: 0.0176 - learning_rate: 1.5625e-06\n",
      "Epoch 71/200\n",
      "\u001b[1m500/500\u001b[0m \u001b[32m━━━━━━━━━━━━━━━━━━━━\u001b[0m\u001b[37m\u001b[0m \u001b[1m333s\u001b[0m 666ms/step - loss: 6.5385e-04 - mae: 0.0193 - val_loss: 5.1519e-04 - val_mae: 0.0175 - learning_rate: 1.5625e-06\n",
      "Epoch 72/200\n",
      "\u001b[1m500/500\u001b[0m \u001b[32m━━━━━━━━━━━━━━━━━━━━\u001b[0m\u001b[37m\u001b[0m \u001b[1m322s\u001b[0m 644ms/step - loss: 6.6412e-04 - mae: 0.0194 - val_loss: 5.3015e-04 - val_mae: 0.0176 - learning_rate: 1.5625e-06\n",
      "Epoch 73/200\n",
      "\u001b[1m500/500\u001b[0m \u001b[32m━━━━━━━━━━━━━━━━━━━━\u001b[0m\u001b[37m\u001b[0m \u001b[1m337s\u001b[0m 674ms/step - loss: 6.6290e-04 - mae: 0.0194 - val_loss: 5.0956e-04 - val_mae: 0.0173 - learning_rate: 1.0000e-06\n",
      "Epoch 74/200\n",
      "\u001b[1m500/500\u001b[0m \u001b[32m━━━━━━━━━━━━━━━━━━━━\u001b[0m\u001b[37m\u001b[0m \u001b[1m349s\u001b[0m 699ms/step - loss: 6.6165e-04 - mae: 0.0194 - val_loss: 5.2954e-04 - val_mae: 0.0175 - learning_rate: 1.0000e-06\n",
      "Epoch 75/200\n",
      "\u001b[1m500/500\u001b[0m \u001b[32m━━━━━━━━━━━━━━━━━━━━\u001b[0m\u001b[37m\u001b[0m \u001b[1m345s\u001b[0m 690ms/step - loss: 6.6287e-04 - mae: 0.0194 - val_loss: 5.1772e-04 - val_mae: 0.0175 - learning_rate: 1.0000e-06\n",
      "Epoch 76/200\n",
      "\u001b[1m500/500\u001b[0m \u001b[32m━━━━━━━━━━━━━━━━━━━━\u001b[0m\u001b[37m\u001b[0m \u001b[1m371s\u001b[0m 742ms/step - loss: 6.5411e-04 - mae: 0.0193 - val_loss: 5.3639e-04 - val_mae: 0.0177 - learning_rate: 1.0000e-06\n",
      "Epoch 77/200\n",
      "\u001b[1m500/500\u001b[0m \u001b[32m━━━━━━━━━━━━━━━━━━━━\u001b[0m\u001b[37m\u001b[0m \u001b[1m358s\u001b[0m 716ms/step - loss: 6.5848e-04 - mae: 0.0194 - val_loss: 5.1150e-04 - val_mae: 0.0173 - learning_rate: 1.0000e-06\n",
      "Epoch 78/200\n",
      "\u001b[1m500/500\u001b[0m \u001b[32m━━━━━━━━━━━━━━━━━━━━\u001b[0m\u001b[37m\u001b[0m \u001b[1m361s\u001b[0m 722ms/step - loss: 6.5795e-04 - mae: 0.0193 - val_loss: 5.2210e-04 - val_mae: 0.0175 - learning_rate: 1.0000e-06\n"
     ]
    }
   ],
   "source": [
    "# Load checkpoint if any\n",
    "if os.path.exists(CHECKPOINT_PATH):\n",
    "    print(\"Loading weights from checkpoint...\")\n",
    "    box_model.load_weights(CHECKPOINT_PATH)\n",
    "else:\n",
    "    print(\"Starting fresh training...\")\n",
    "\n",
    "start = time.time()\n",
    "box_history = box_model.fit(\n",
    "    box_dataset,\n",
    "    validation_data=box_dataset,\n",
    "    epochs=EPOCHS,\n",
    "    steps_per_epoch=STEPS_PER_EPOCH,\n",
    "    validation_steps=VALIDATION_STEPS,\n",
    "    callbacks=callbacks\n",
    ")\n",
    "end = time.time()"
   ]
  },
  {
   "cell_type": "code",
   "execution_count": 9,
   "id": "d1db7a8d-350f-4845-b0ea-f157e0f744ee",
   "metadata": {},
   "outputs": [
    {
     "data": {
      "text/html": [
       "<pre style=\"white-space:pre;overflow-x:auto;line-height:normal;font-family:Menlo,'DejaVu Sans Mono',consolas,'Courier New',monospace\"><span style=\"font-weight: bold\">Model: \"sequential\"</span>\n",
       "</pre>\n"
      ],
      "text/plain": [
       "\u001b[1mModel: \"sequential\"\u001b[0m\n"
      ]
     },
     "metadata": {},
     "output_type": "display_data"
    },
    {
     "data": {
      "text/html": [
       "<pre style=\"white-space:pre;overflow-x:auto;line-height:normal;font-family:Menlo,'DejaVu Sans Mono',consolas,'Courier New',monospace\">┏━━━━━━━━━━━━━━━━━━━━━━━━━━━━━━━━━━━━━━┳━━━━━━━━━━━━━━━━━━━━━━━━━━━━━┳━━━━━━━━━━━━━━━━━┓\n",
       "┃<span style=\"font-weight: bold\"> Layer (type)                         </span>┃<span style=\"font-weight: bold\"> Output Shape                </span>┃<span style=\"font-weight: bold\">         Param # </span>┃\n",
       "┡━━━━━━━━━━━━━━━━━━━━━━━━━━━━━━━━━━━━━━╇━━━━━━━━━━━━━━━━━━━━━━━━━━━━━╇━━━━━━━━━━━━━━━━━┩\n",
       "│ conv2d (<span style=\"color: #0087ff; text-decoration-color: #0087ff\">Conv2D</span>)                      │ (<span style=\"color: #00d7ff; text-decoration-color: #00d7ff\">None</span>, <span style=\"color: #00af00; text-decoration-color: #00af00\">100</span>, <span style=\"color: #00af00; text-decoration-color: #00af00\">200</span>, <span style=\"color: #00af00; text-decoration-color: #00af00\">32</span>)        │             <span style=\"color: #00af00; text-decoration-color: #00af00\">896</span> │\n",
       "├──────────────────────────────────────┼─────────────────────────────┼─────────────────┤\n",
       "│ batch_normalization                  │ (<span style=\"color: #00d7ff; text-decoration-color: #00d7ff\">None</span>, <span style=\"color: #00af00; text-decoration-color: #00af00\">100</span>, <span style=\"color: #00af00; text-decoration-color: #00af00\">200</span>, <span style=\"color: #00af00; text-decoration-color: #00af00\">32</span>)        │             <span style=\"color: #00af00; text-decoration-color: #00af00\">128</span> │\n",
       "│ (<span style=\"color: #0087ff; text-decoration-color: #0087ff\">BatchNormalization</span>)                 │                             │                 │\n",
       "├──────────────────────────────────────┼─────────────────────────────┼─────────────────┤\n",
       "│ re_lu (<span style=\"color: #0087ff; text-decoration-color: #0087ff\">ReLU</span>)                         │ (<span style=\"color: #00d7ff; text-decoration-color: #00d7ff\">None</span>, <span style=\"color: #00af00; text-decoration-color: #00af00\">100</span>, <span style=\"color: #00af00; text-decoration-color: #00af00\">200</span>, <span style=\"color: #00af00; text-decoration-color: #00af00\">32</span>)        │               <span style=\"color: #00af00; text-decoration-color: #00af00\">0</span> │\n",
       "├──────────────────────────────────────┼─────────────────────────────┼─────────────────┤\n",
       "│ max_pooling2d (<span style=\"color: #0087ff; text-decoration-color: #0087ff\">MaxPooling2D</span>)         │ (<span style=\"color: #00d7ff; text-decoration-color: #00d7ff\">None</span>, <span style=\"color: #00af00; text-decoration-color: #00af00\">50</span>, <span style=\"color: #00af00; text-decoration-color: #00af00\">100</span>, <span style=\"color: #00af00; text-decoration-color: #00af00\">32</span>)         │               <span style=\"color: #00af00; text-decoration-color: #00af00\">0</span> │\n",
       "├──────────────────────────────────────┼─────────────────────────────┼─────────────────┤\n",
       "│ conv2d_1 (<span style=\"color: #0087ff; text-decoration-color: #0087ff\">Conv2D</span>)                    │ (<span style=\"color: #00d7ff; text-decoration-color: #00d7ff\">None</span>, <span style=\"color: #00af00; text-decoration-color: #00af00\">50</span>, <span style=\"color: #00af00; text-decoration-color: #00af00\">100</span>, <span style=\"color: #00af00; text-decoration-color: #00af00\">64</span>)         │          <span style=\"color: #00af00; text-decoration-color: #00af00\">18,496</span> │\n",
       "├──────────────────────────────────────┼─────────────────────────────┼─────────────────┤\n",
       "│ batch_normalization_1                │ (<span style=\"color: #00d7ff; text-decoration-color: #00d7ff\">None</span>, <span style=\"color: #00af00; text-decoration-color: #00af00\">50</span>, <span style=\"color: #00af00; text-decoration-color: #00af00\">100</span>, <span style=\"color: #00af00; text-decoration-color: #00af00\">64</span>)         │             <span style=\"color: #00af00; text-decoration-color: #00af00\">256</span> │\n",
       "│ (<span style=\"color: #0087ff; text-decoration-color: #0087ff\">BatchNormalization</span>)                 │                             │                 │\n",
       "├──────────────────────────────────────┼─────────────────────────────┼─────────────────┤\n",
       "│ re_lu_1 (<span style=\"color: #0087ff; text-decoration-color: #0087ff\">ReLU</span>)                       │ (<span style=\"color: #00d7ff; text-decoration-color: #00d7ff\">None</span>, <span style=\"color: #00af00; text-decoration-color: #00af00\">50</span>, <span style=\"color: #00af00; text-decoration-color: #00af00\">100</span>, <span style=\"color: #00af00; text-decoration-color: #00af00\">64</span>)         │               <span style=\"color: #00af00; text-decoration-color: #00af00\">0</span> │\n",
       "├──────────────────────────────────────┼─────────────────────────────┼─────────────────┤\n",
       "│ max_pooling2d_1 (<span style=\"color: #0087ff; text-decoration-color: #0087ff\">MaxPooling2D</span>)       │ (<span style=\"color: #00d7ff; text-decoration-color: #00d7ff\">None</span>, <span style=\"color: #00af00; text-decoration-color: #00af00\">25</span>, <span style=\"color: #00af00; text-decoration-color: #00af00\">50</span>, <span style=\"color: #00af00; text-decoration-color: #00af00\">64</span>)          │               <span style=\"color: #00af00; text-decoration-color: #00af00\">0</span> │\n",
       "├──────────────────────────────────────┼─────────────────────────────┼─────────────────┤\n",
       "│ conv2d_2 (<span style=\"color: #0087ff; text-decoration-color: #0087ff\">Conv2D</span>)                    │ (<span style=\"color: #00d7ff; text-decoration-color: #00d7ff\">None</span>, <span style=\"color: #00af00; text-decoration-color: #00af00\">25</span>, <span style=\"color: #00af00; text-decoration-color: #00af00\">50</span>, <span style=\"color: #00af00; text-decoration-color: #00af00\">128</span>)         │          <span style=\"color: #00af00; text-decoration-color: #00af00\">73,856</span> │\n",
       "├──────────────────────────────────────┼─────────────────────────────┼─────────────────┤\n",
       "│ batch_normalization_2                │ (<span style=\"color: #00d7ff; text-decoration-color: #00d7ff\">None</span>, <span style=\"color: #00af00; text-decoration-color: #00af00\">25</span>, <span style=\"color: #00af00; text-decoration-color: #00af00\">50</span>, <span style=\"color: #00af00; text-decoration-color: #00af00\">128</span>)         │             <span style=\"color: #00af00; text-decoration-color: #00af00\">512</span> │\n",
       "│ (<span style=\"color: #0087ff; text-decoration-color: #0087ff\">BatchNormalization</span>)                 │                             │                 │\n",
       "├──────────────────────────────────────┼─────────────────────────────┼─────────────────┤\n",
       "│ re_lu_2 (<span style=\"color: #0087ff; text-decoration-color: #0087ff\">ReLU</span>)                       │ (<span style=\"color: #00d7ff; text-decoration-color: #00d7ff\">None</span>, <span style=\"color: #00af00; text-decoration-color: #00af00\">25</span>, <span style=\"color: #00af00; text-decoration-color: #00af00\">50</span>, <span style=\"color: #00af00; text-decoration-color: #00af00\">128</span>)         │               <span style=\"color: #00af00; text-decoration-color: #00af00\">0</span> │\n",
       "├──────────────────────────────────────┼─────────────────────────────┼─────────────────┤\n",
       "│ max_pooling2d_2 (<span style=\"color: #0087ff; text-decoration-color: #0087ff\">MaxPooling2D</span>)       │ (<span style=\"color: #00d7ff; text-decoration-color: #00d7ff\">None</span>, <span style=\"color: #00af00; text-decoration-color: #00af00\">12</span>, <span style=\"color: #00af00; text-decoration-color: #00af00\">25</span>, <span style=\"color: #00af00; text-decoration-color: #00af00\">128</span>)         │               <span style=\"color: #00af00; text-decoration-color: #00af00\">0</span> │\n",
       "├──────────────────────────────────────┼─────────────────────────────┼─────────────────┤\n",
       "│ conv2d_3 (<span style=\"color: #0087ff; text-decoration-color: #0087ff\">Conv2D</span>)                    │ (<span style=\"color: #00d7ff; text-decoration-color: #00d7ff\">None</span>, <span style=\"color: #00af00; text-decoration-color: #00af00\">12</span>, <span style=\"color: #00af00; text-decoration-color: #00af00\">25</span>, <span style=\"color: #00af00; text-decoration-color: #00af00\">256</span>)         │         <span style=\"color: #00af00; text-decoration-color: #00af00\">295,168</span> │\n",
       "├──────────────────────────────────────┼─────────────────────────────┼─────────────────┤\n",
       "│ batch_normalization_3                │ (<span style=\"color: #00d7ff; text-decoration-color: #00d7ff\">None</span>, <span style=\"color: #00af00; text-decoration-color: #00af00\">12</span>, <span style=\"color: #00af00; text-decoration-color: #00af00\">25</span>, <span style=\"color: #00af00; text-decoration-color: #00af00\">256</span>)         │           <span style=\"color: #00af00; text-decoration-color: #00af00\">1,024</span> │\n",
       "│ (<span style=\"color: #0087ff; text-decoration-color: #0087ff\">BatchNormalization</span>)                 │                             │                 │\n",
       "├──────────────────────────────────────┼─────────────────────────────┼─────────────────┤\n",
       "│ re_lu_3 (<span style=\"color: #0087ff; text-decoration-color: #0087ff\">ReLU</span>)                       │ (<span style=\"color: #00d7ff; text-decoration-color: #00d7ff\">None</span>, <span style=\"color: #00af00; text-decoration-color: #00af00\">12</span>, <span style=\"color: #00af00; text-decoration-color: #00af00\">25</span>, <span style=\"color: #00af00; text-decoration-color: #00af00\">256</span>)         │               <span style=\"color: #00af00; text-decoration-color: #00af00\">0</span> │\n",
       "├──────────────────────────────────────┼─────────────────────────────┼─────────────────┤\n",
       "│ max_pooling2d_3 (<span style=\"color: #0087ff; text-decoration-color: #0087ff\">MaxPooling2D</span>)       │ (<span style=\"color: #00d7ff; text-decoration-color: #00d7ff\">None</span>, <span style=\"color: #00af00; text-decoration-color: #00af00\">6</span>, <span style=\"color: #00af00; text-decoration-color: #00af00\">12</span>, <span style=\"color: #00af00; text-decoration-color: #00af00\">256</span>)          │               <span style=\"color: #00af00; text-decoration-color: #00af00\">0</span> │\n",
       "├──────────────────────────────────────┼─────────────────────────────┼─────────────────┤\n",
       "│ flatten (<span style=\"color: #0087ff; text-decoration-color: #0087ff\">Flatten</span>)                    │ (<span style=\"color: #00d7ff; text-decoration-color: #00d7ff\">None</span>, <span style=\"color: #00af00; text-decoration-color: #00af00\">18432</span>)               │               <span style=\"color: #00af00; text-decoration-color: #00af00\">0</span> │\n",
       "├──────────────────────────────────────┼─────────────────────────────┼─────────────────┤\n",
       "│ dense (<span style=\"color: #0087ff; text-decoration-color: #0087ff\">Dense</span>)                        │ (<span style=\"color: #00d7ff; text-decoration-color: #00d7ff\">None</span>, <span style=\"color: #00af00; text-decoration-color: #00af00\">256</span>)                 │       <span style=\"color: #00af00; text-decoration-color: #00af00\">4,718,848</span> │\n",
       "├──────────────────────────────────────┼─────────────────────────────┼─────────────────┤\n",
       "│ dropout (<span style=\"color: #0087ff; text-decoration-color: #0087ff\">Dropout</span>)                    │ (<span style=\"color: #00d7ff; text-decoration-color: #00d7ff\">None</span>, <span style=\"color: #00af00; text-decoration-color: #00af00\">256</span>)                 │               <span style=\"color: #00af00; text-decoration-color: #00af00\">0</span> │\n",
       "├──────────────────────────────────────┼─────────────────────────────┼─────────────────┤\n",
       "│ dense_1 (<span style=\"color: #0087ff; text-decoration-color: #0087ff\">Dense</span>)                      │ (<span style=\"color: #00d7ff; text-decoration-color: #00d7ff\">None</span>, <span style=\"color: #00af00; text-decoration-color: #00af00\">128</span>)                 │          <span style=\"color: #00af00; text-decoration-color: #00af00\">32,896</span> │\n",
       "├──────────────────────────────────────┼─────────────────────────────┼─────────────────┤\n",
       "│ dropout_1 (<span style=\"color: #0087ff; text-decoration-color: #0087ff\">Dropout</span>)                  │ (<span style=\"color: #00d7ff; text-decoration-color: #00d7ff\">None</span>, <span style=\"color: #00af00; text-decoration-color: #00af00\">128</span>)                 │               <span style=\"color: #00af00; text-decoration-color: #00af00\">0</span> │\n",
       "├──────────────────────────────────────┼─────────────────────────────┼─────────────────┤\n",
       "│ dense_2 (<span style=\"color: #0087ff; text-decoration-color: #0087ff\">Dense</span>)                      │ (<span style=\"color: #00d7ff; text-decoration-color: #00d7ff\">None</span>, <span style=\"color: #00af00; text-decoration-color: #00af00\">16</span>)                  │           <span style=\"color: #00af00; text-decoration-color: #00af00\">2,064</span> │\n",
       "└──────────────────────────────────────┴─────────────────────────────┴─────────────────┘\n",
       "</pre>\n"
      ],
      "text/plain": [
       "┏━━━━━━━━━━━━━━━━━━━━━━━━━━━━━━━━━━━━━━┳━━━━━━━━━━━━━━━━━━━━━━━━━━━━━┳━━━━━━━━━━━━━━━━━┓\n",
       "┃\u001b[1m \u001b[0m\u001b[1mLayer (type)                        \u001b[0m\u001b[1m \u001b[0m┃\u001b[1m \u001b[0m\u001b[1mOutput Shape               \u001b[0m\u001b[1m \u001b[0m┃\u001b[1m \u001b[0m\u001b[1m        Param #\u001b[0m\u001b[1m \u001b[0m┃\n",
       "┡━━━━━━━━━━━━━━━━━━━━━━━━━━━━━━━━━━━━━━╇━━━━━━━━━━━━━━━━━━━━━━━━━━━━━╇━━━━━━━━━━━━━━━━━┩\n",
       "│ conv2d (\u001b[38;5;33mConv2D\u001b[0m)                      │ (\u001b[38;5;45mNone\u001b[0m, \u001b[38;5;34m100\u001b[0m, \u001b[38;5;34m200\u001b[0m, \u001b[38;5;34m32\u001b[0m)        │             \u001b[38;5;34m896\u001b[0m │\n",
       "├──────────────────────────────────────┼─────────────────────────────┼─────────────────┤\n",
       "│ batch_normalization                  │ (\u001b[38;5;45mNone\u001b[0m, \u001b[38;5;34m100\u001b[0m, \u001b[38;5;34m200\u001b[0m, \u001b[38;5;34m32\u001b[0m)        │             \u001b[38;5;34m128\u001b[0m │\n",
       "│ (\u001b[38;5;33mBatchNormalization\u001b[0m)                 │                             │                 │\n",
       "├──────────────────────────────────────┼─────────────────────────────┼─────────────────┤\n",
       "│ re_lu (\u001b[38;5;33mReLU\u001b[0m)                         │ (\u001b[38;5;45mNone\u001b[0m, \u001b[38;5;34m100\u001b[0m, \u001b[38;5;34m200\u001b[0m, \u001b[38;5;34m32\u001b[0m)        │               \u001b[38;5;34m0\u001b[0m │\n",
       "├──────────────────────────────────────┼─────────────────────────────┼─────────────────┤\n",
       "│ max_pooling2d (\u001b[38;5;33mMaxPooling2D\u001b[0m)         │ (\u001b[38;5;45mNone\u001b[0m, \u001b[38;5;34m50\u001b[0m, \u001b[38;5;34m100\u001b[0m, \u001b[38;5;34m32\u001b[0m)         │               \u001b[38;5;34m0\u001b[0m │\n",
       "├──────────────────────────────────────┼─────────────────────────────┼─────────────────┤\n",
       "│ conv2d_1 (\u001b[38;5;33mConv2D\u001b[0m)                    │ (\u001b[38;5;45mNone\u001b[0m, \u001b[38;5;34m50\u001b[0m, \u001b[38;5;34m100\u001b[0m, \u001b[38;5;34m64\u001b[0m)         │          \u001b[38;5;34m18,496\u001b[0m │\n",
       "├──────────────────────────────────────┼─────────────────────────────┼─────────────────┤\n",
       "│ batch_normalization_1                │ (\u001b[38;5;45mNone\u001b[0m, \u001b[38;5;34m50\u001b[0m, \u001b[38;5;34m100\u001b[0m, \u001b[38;5;34m64\u001b[0m)         │             \u001b[38;5;34m256\u001b[0m │\n",
       "│ (\u001b[38;5;33mBatchNormalization\u001b[0m)                 │                             │                 │\n",
       "├──────────────────────────────────────┼─────────────────────────────┼─────────────────┤\n",
       "│ re_lu_1 (\u001b[38;5;33mReLU\u001b[0m)                       │ (\u001b[38;5;45mNone\u001b[0m, \u001b[38;5;34m50\u001b[0m, \u001b[38;5;34m100\u001b[0m, \u001b[38;5;34m64\u001b[0m)         │               \u001b[38;5;34m0\u001b[0m │\n",
       "├──────────────────────────────────────┼─────────────────────────────┼─────────────────┤\n",
       "│ max_pooling2d_1 (\u001b[38;5;33mMaxPooling2D\u001b[0m)       │ (\u001b[38;5;45mNone\u001b[0m, \u001b[38;5;34m25\u001b[0m, \u001b[38;5;34m50\u001b[0m, \u001b[38;5;34m64\u001b[0m)          │               \u001b[38;5;34m0\u001b[0m │\n",
       "├──────────────────────────────────────┼─────────────────────────────┼─────────────────┤\n",
       "│ conv2d_2 (\u001b[38;5;33mConv2D\u001b[0m)                    │ (\u001b[38;5;45mNone\u001b[0m, \u001b[38;5;34m25\u001b[0m, \u001b[38;5;34m50\u001b[0m, \u001b[38;5;34m128\u001b[0m)         │          \u001b[38;5;34m73,856\u001b[0m │\n",
       "├──────────────────────────────────────┼─────────────────────────────┼─────────────────┤\n",
       "│ batch_normalization_2                │ (\u001b[38;5;45mNone\u001b[0m, \u001b[38;5;34m25\u001b[0m, \u001b[38;5;34m50\u001b[0m, \u001b[38;5;34m128\u001b[0m)         │             \u001b[38;5;34m512\u001b[0m │\n",
       "│ (\u001b[38;5;33mBatchNormalization\u001b[0m)                 │                             │                 │\n",
       "├──────────────────────────────────────┼─────────────────────────────┼─────────────────┤\n",
       "│ re_lu_2 (\u001b[38;5;33mReLU\u001b[0m)                       │ (\u001b[38;5;45mNone\u001b[0m, \u001b[38;5;34m25\u001b[0m, \u001b[38;5;34m50\u001b[0m, \u001b[38;5;34m128\u001b[0m)         │               \u001b[38;5;34m0\u001b[0m │\n",
       "├──────────────────────────────────────┼─────────────────────────────┼─────────────────┤\n",
       "│ max_pooling2d_2 (\u001b[38;5;33mMaxPooling2D\u001b[0m)       │ (\u001b[38;5;45mNone\u001b[0m, \u001b[38;5;34m12\u001b[0m, \u001b[38;5;34m25\u001b[0m, \u001b[38;5;34m128\u001b[0m)         │               \u001b[38;5;34m0\u001b[0m │\n",
       "├──────────────────────────────────────┼─────────────────────────────┼─────────────────┤\n",
       "│ conv2d_3 (\u001b[38;5;33mConv2D\u001b[0m)                    │ (\u001b[38;5;45mNone\u001b[0m, \u001b[38;5;34m12\u001b[0m, \u001b[38;5;34m25\u001b[0m, \u001b[38;5;34m256\u001b[0m)         │         \u001b[38;5;34m295,168\u001b[0m │\n",
       "├──────────────────────────────────────┼─────────────────────────────┼─────────────────┤\n",
       "│ batch_normalization_3                │ (\u001b[38;5;45mNone\u001b[0m, \u001b[38;5;34m12\u001b[0m, \u001b[38;5;34m25\u001b[0m, \u001b[38;5;34m256\u001b[0m)         │           \u001b[38;5;34m1,024\u001b[0m │\n",
       "│ (\u001b[38;5;33mBatchNormalization\u001b[0m)                 │                             │                 │\n",
       "├──────────────────────────────────────┼─────────────────────────────┼─────────────────┤\n",
       "│ re_lu_3 (\u001b[38;5;33mReLU\u001b[0m)                       │ (\u001b[38;5;45mNone\u001b[0m, \u001b[38;5;34m12\u001b[0m, \u001b[38;5;34m25\u001b[0m, \u001b[38;5;34m256\u001b[0m)         │               \u001b[38;5;34m0\u001b[0m │\n",
       "├──────────────────────────────────────┼─────────────────────────────┼─────────────────┤\n",
       "│ max_pooling2d_3 (\u001b[38;5;33mMaxPooling2D\u001b[0m)       │ (\u001b[38;5;45mNone\u001b[0m, \u001b[38;5;34m6\u001b[0m, \u001b[38;5;34m12\u001b[0m, \u001b[38;5;34m256\u001b[0m)          │               \u001b[38;5;34m0\u001b[0m │\n",
       "├──────────────────────────────────────┼─────────────────────────────┼─────────────────┤\n",
       "│ flatten (\u001b[38;5;33mFlatten\u001b[0m)                    │ (\u001b[38;5;45mNone\u001b[0m, \u001b[38;5;34m18432\u001b[0m)               │               \u001b[38;5;34m0\u001b[0m │\n",
       "├──────────────────────────────────────┼─────────────────────────────┼─────────────────┤\n",
       "│ dense (\u001b[38;5;33mDense\u001b[0m)                        │ (\u001b[38;5;45mNone\u001b[0m, \u001b[38;5;34m256\u001b[0m)                 │       \u001b[38;5;34m4,718,848\u001b[0m │\n",
       "├──────────────────────────────────────┼─────────────────────────────┼─────────────────┤\n",
       "│ dropout (\u001b[38;5;33mDropout\u001b[0m)                    │ (\u001b[38;5;45mNone\u001b[0m, \u001b[38;5;34m256\u001b[0m)                 │               \u001b[38;5;34m0\u001b[0m │\n",
       "├──────────────────────────────────────┼─────────────────────────────┼─────────────────┤\n",
       "│ dense_1 (\u001b[38;5;33mDense\u001b[0m)                      │ (\u001b[38;5;45mNone\u001b[0m, \u001b[38;5;34m128\u001b[0m)                 │          \u001b[38;5;34m32,896\u001b[0m │\n",
       "├──────────────────────────────────────┼─────────────────────────────┼─────────────────┤\n",
       "│ dropout_1 (\u001b[38;5;33mDropout\u001b[0m)                  │ (\u001b[38;5;45mNone\u001b[0m, \u001b[38;5;34m128\u001b[0m)                 │               \u001b[38;5;34m0\u001b[0m │\n",
       "├──────────────────────────────────────┼─────────────────────────────┼─────────────────┤\n",
       "│ dense_2 (\u001b[38;5;33mDense\u001b[0m)                      │ (\u001b[38;5;45mNone\u001b[0m, \u001b[38;5;34m16\u001b[0m)                  │           \u001b[38;5;34m2,064\u001b[0m │\n",
       "└──────────────────────────────────────┴─────────────────────────────┴─────────────────┘\n"
      ]
     },
     "metadata": {},
     "output_type": "display_data"
    },
    {
     "data": {
      "text/html": [
       "<pre style=\"white-space:pre;overflow-x:auto;line-height:normal;font-family:Menlo,'DejaVu Sans Mono',consolas,'Courier New',monospace\"><span style=\"font-weight: bold\"> Total params: </span><span style=\"color: #00af00; text-decoration-color: #00af00\">15,430,514</span> (58.86 MB)\n",
       "</pre>\n"
      ],
      "text/plain": [
       "\u001b[1m Total params: \u001b[0m\u001b[38;5;34m15,430,514\u001b[0m (58.86 MB)\n"
      ]
     },
     "metadata": {},
     "output_type": "display_data"
    },
    {
     "data": {
      "text/html": [
       "<pre style=\"white-space:pre;overflow-x:auto;line-height:normal;font-family:Menlo,'DejaVu Sans Mono',consolas,'Courier New',monospace\"><span style=\"font-weight: bold\"> Trainable params: </span><span style=\"color: #00af00; text-decoration-color: #00af00\">5,143,184</span> (19.62 MB)\n",
       "</pre>\n"
      ],
      "text/plain": [
       "\u001b[1m Trainable params: \u001b[0m\u001b[38;5;34m5,143,184\u001b[0m (19.62 MB)\n"
      ]
     },
     "metadata": {},
     "output_type": "display_data"
    },
    {
     "data": {
      "text/html": [
       "<pre style=\"white-space:pre;overflow-x:auto;line-height:normal;font-family:Menlo,'DejaVu Sans Mono',consolas,'Courier New',monospace\"><span style=\"font-weight: bold\"> Non-trainable params: </span><span style=\"color: #00af00; text-decoration-color: #00af00\">960</span> (3.75 KB)\n",
       "</pre>\n"
      ],
      "text/plain": [
       "\u001b[1m Non-trainable params: \u001b[0m\u001b[38;5;34m960\u001b[0m (3.75 KB)\n"
      ]
     },
     "metadata": {},
     "output_type": "display_data"
    },
    {
     "data": {
      "text/html": [
       "<pre style=\"white-space:pre;overflow-x:auto;line-height:normal;font-family:Menlo,'DejaVu Sans Mono',consolas,'Courier New',monospace\"><span style=\"font-weight: bold\"> Optimizer params: </span><span style=\"color: #00af00; text-decoration-color: #00af00\">10,286,370</span> (39.24 MB)\n",
       "</pre>\n"
      ],
      "text/plain": [
       "\u001b[1m Optimizer params: \u001b[0m\u001b[38;5;34m10,286,370\u001b[0m (39.24 MB)\n"
      ]
     },
     "metadata": {},
     "output_type": "display_data"
    },
    {
     "name": "stdout",
     "output_type": "stream",
     "text": [
      "Total training time: 25082.1s\n"
     ]
    }
   ],
   "source": [
    "os.makedirs(\"../models\", exist_ok=True)\n",
    "box_model.save(\"../models/BBox_Regressor_v2.keras\")\n",
    "box_model.summary()\n",
    "print(f\"Total training time: {end - start:.1f}s\")"
   ]
  },
  {
   "cell_type": "code",
   "execution_count": 10,
   "id": "c4162145-ddf3-490c-a589-50b24c04ded6",
   "metadata": {},
   "outputs": [
    {
     "name": "stdout",
     "output_type": "stream",
     "text": [
      "\u001b[1m1/1\u001b[0m \u001b[32m━━━━━━━━━━━━━━━━━━━━\u001b[0m\u001b[37m\u001b[0m \u001b[1m0s\u001b[0m 243ms/step\n",
      "Truth 1 : 17 33 34 54\n",
      "Predicted 1 : 15 33 32 56\n",
      "Truth 2 : 47 27 65 52\n",
      "Predicted 2 : 47 30 64 51\n",
      "Truth 3 : 76 44 100 77\n",
      "Predicted 3 : 78 43 100 73\n",
      "Truth 4 : 115 36 141 69\n",
      "Predicted 4 : 115 38 138 66\n"
     ]
    },
    {
     "data": {
      "image/jpeg": "[encoded data removed]",
      "image/png": "[encoded data removed]",
      "text/plain": [
       "<PIL.Image.Image image mode=RGB size=200x100>"
      ]
     },
     "metadata": {},
     "output_type": "display_data"
    }
   ],
   "source": [
    "x, y, image = next(generate_captcha(return_image=True))\n",
    "y_pred = box_model.predict(x.reshape(-1, HEIGHT, WIDTH, 3))[0]\n",
    "draw_boxes(image, y, y_pred)"
   ]
  },
  {
   "cell_type": "code",
   "execution_count": 12,
   "id": "587ce5b7-45e6-40ad-b981-4628cbe8a41b",
   "metadata": {
    "scrolled": true
   },
   "outputs": [
    {
     "name": "stdout",
     "output_type": "stream",
     "text": [
      "Accuracy of 89.18125 % with error margin of 5 pixels\n"
     ]
    }
   ],
   "source": [
    "# Evaluate the Bounding Box Regressor\n",
    "def unnormalize_boxes(boxes, img_h, img_w):\n",
    "    boxes = boxes.copy()\n",
    "    boxes[0::4] *= img_w  # x_min\n",
    "    boxes[2::4] *= img_w  # x_max\n",
    "    boxes[1::4] *= img_h  # y_min\n",
    "    boxes[3::4] *= img_h  # y_max\n",
    "    return boxes\n",
    "\n",
    "error_margin = 5\n",
    "test_size = 1000\n",
    "count = 0\n",
    "\n",
    "for i in range(test_size):\n",
    "    x, y_true, image = next(generate_captcha(return_image=True))\n",
    "    y_pred = box_model.predict(x.reshape(-1, HEIGHT, WIDTH, 3), verbose=False)[0]\n",
    "    y_true_px = unnormalize_boxes(y_true, HEIGHT, WIDTH)\n",
    "    y_pred_px = unnormalize_boxes(y_pred, HEIGHT, WIDTH)\n",
    "    count += np.sum(np.abs(y_true_px - y_pred_px) > error_margin)\n",
    "\n",
    "print(\"Accuracy of\", (test_size-count/16)*100/test_size, \"% with error margin of\", error_margin, \"pixels\")"
   ]
  }
 ],
 "metadata": {
  "kernelspec": {
   "display_name": "Python 3 (ipykernel)",
   "language": "python",
   "name": "python3"
  },
  "language_info": {
   "codemirror_mode": {
    "name": "ipython",
    "version": 3
   },
   "file_extension": ".py",
   "mimetype": "text/x-python",
   "name": "python",
   "nbconvert_exporter": "python",
   "pygments_lexer": "ipython3",
   "version": "3.12.8"
  }
 },
 "nbformat": 4,
 "nbformat_minor": 5
}
