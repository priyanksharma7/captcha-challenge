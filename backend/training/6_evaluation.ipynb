{
 "cells": [
  {
   "cell_type": "code",
   "execution_count": 1,
   "id": "9ecadf06-7f6b-4bc3-832b-56f17654d840",
   "metadata": {},
   "outputs": [],
   "source": [
    "import os\n",
    "import numpy as np\n",
    "import tensorflow as tf\n",
    "from PIL import Image, ImageDraw, ImageFont\n",
    "from random import randrange\n",
    "from IPython.display import display"
   ]
  },
  {
   "cell_type": "code",
   "execution_count": 2,
   "id": "7149f38a-b362-4998-99c0-149ce01bf187",
   "metadata": {},
   "outputs": [],
   "source": [
    "WIDTH       =   200\n",
    "HEIGHT      =   100\n",
    "MINX        =    20\n",
    "MINY        =    20\n",
    "MAXX        =    WIDTH-60\n",
    "MAXY        =    HEIGHT-60\n",
    "MINSIZE     =    24\n",
    "MAXSIZE     =    48\n",
    "NUMCHARS    =     4 # 4 character CAPTCHA\n",
    "SYMBOL_SIZE =    50\n",
    "SYMBOL_SET  =    \"0123456789\"\n",
    "NUM_SYMBOLS =    len(SYMBOL_SET)\n",
    "FONTS_DIR   =    \"../fonts\""
   ]
  },
  {
   "cell_type": "code",
   "execution_count": 3,
   "id": "b842a242-46bc-4aa0-9ef4-514df1855e82",
   "metadata": {},
   "outputs": [],
   "source": [
    "def generate_captcha(return_image=False):\n",
    "    fonts = [i for i in os.listdir(FONTS_DIR) if i.endswith('.ttf')]\n",
    "    while True:\n",
    "        x_pos = 0\n",
    "        answer = ''\n",
    "        boxes = []\n",
    "        img = Image.new('RGB', (WIDTH, HEIGHT), color = (255,255,255))\n",
    "        canvas = ImageDraw.Draw(img)\n",
    "        for i in range(NUMCHARS):\n",
    "            font = ImageFont.truetype(f'{FONTS_DIR}/{fonts[randrange(len(fonts))]}', randrange(MINSIZE,MAXSIZE))\n",
    "            character = SYMBOL_SET[randrange(NUM_SYMBOLS)]\n",
    "            answer += character\n",
    "            x_pos += randrange(10, MINX)\n",
    "            y_pos = randrange(MINY, MAXY)\n",
    "            position = (x_pos, y_pos)\n",
    "            coords = canvas.textbbox(position, character, font)\n",
    "            canvas.text(position, character, font=font, fill=(0,0,0), anchor=\"la\")\n",
    "            boxes.append([coords[0]/WIDTH, coords[1]/HEIGHT, coords[2]/WIDTH, coords[3]/HEIGHT])\n",
    "            x_pos = coords[2]\n",
    "        x = np.asarray(img).astype(np.float32) / 255.0\n",
    "        y = np.array(boxes).flatten().astype(np.float32)\n",
    "        \n",
    "        if return_image:\n",
    "            yield x, y, img, answer\n",
    "        else:\n",
    "            yield x, y"
   ]
  },
  {
   "cell_type": "code",
   "execution_count": 4,
   "id": "6f570d9b-3487-434d-a7cc-e5b5e07bf7e2",
   "metadata": {},
   "outputs": [],
   "source": [
    "# Convert normalized boxes [0,1] back to pixel coordinates\n",
    "def unnormalize_boxes(boxes):\n",
    "    boxes = boxes.copy()\n",
    "    boxes[0::4] *= WIDTH\n",
    "    boxes[1::4] *= HEIGHT\n",
    "    boxes[2::4] *= WIDTH\n",
    "    boxes[3::4] *= HEIGHT\n",
    "    return boxes"
   ]
  },
  {
   "cell_type": "code",
   "execution_count": 5,
   "id": "13809e86-de76-47d0-b802-23ad39fc5c23",
   "metadata": {},
   "outputs": [],
   "source": [
    "# Draw the boxes \n",
    "def draw_boxes(image, truth, pred=None):\n",
    "    canvas = ImageDraw.Draw(image)\n",
    "    \n",
    "    # Unnormalize and reshape\n",
    "    truth_boxes = np.reshape(unnormalize_boxes(truth), (4, 4))\n",
    "    if pred is not None:\n",
    "        pred_boxes = np.reshape(unnormalize_boxes(pred), (4, 4))\n",
    "    \n",
    "    for i in range(len(truth_boxes)):\n",
    "        canvas.rectangle(list(truth_boxes[i]), outline=\"green\", width=1)\n",
    "        print(\"Truth\", i+1, \":\", truth_boxes[i])\n",
    "        if pred is not None:\n",
    "            canvas.rectangle(list(pred_boxes[i]), outline=\"red\", width=1)\n",
    "            print(\"Preds\", i+1, \":\", pred_boxes[i])\n",
    "\n",
    "    display(image)"
   ]
  },
  {
   "cell_type": "code",
   "execution_count": 6,
   "id": "0a78124a-9f7e-4de5-bcda-694f4b79b44d",
   "metadata": {},
   "outputs": [
    {
     "name": "stdout",
     "output_type": "stream",
     "text": [
      "(100, 200, 3)\n",
      "Truth 1 : [10. 56. 31. 81.]\n",
      "Truth 2 : [43. 36. 68. 68.]\n",
      "Truth 3 : [ 79.  42. 101.  62.]\n",
      "Truth 4 : [120.00001  36.      134.       58.     ]\n"
     ]
    },
    {
     "data": {
      "image/jpeg": "[encoded data removed]",
      "image/png": "[encoded data removed]",
      "text/plain": [
       "<PIL.Image.Image image mode=RGB size=200x100>"
      ]
     },
     "metadata": {},
     "output_type": "display_data"
    }
   ],
   "source": [
    "x, y, image, answer = next(generate_captcha(return_image=True))\n",
    "print(x.shape)\n",
    "draw_boxes(image, y)"
   ]
  },
  {
   "cell_type": "code",
   "execution_count": 7,
   "id": "d1db7a8d-350f-4845-b0ea-f157e0f744ee",
   "metadata": {},
   "outputs": [],
   "source": [
    "box_model = tf.keras.models.load_model(\"../models/BBox_Regressor_v2.keras\")"
   ]
  },
  {
   "cell_type": "code",
   "execution_count": 8,
   "id": "bf8ca358-9de0-4ff2-85fd-691000ce83ec",
   "metadata": {},
   "outputs": [
    {
     "name": "stdout",
     "output_type": "stream",
     "text": [
      "\u001b[1m1/1\u001b[0m \u001b[32m━━━━━━━━━━━━━━━━━━━━\u001b[0m\u001b[37m\u001b[0m \u001b[1m0s\u001b[0m 216ms/step\n",
      "Truth 1 : [11. 34. 31. 61.]\n",
      "Preds 1 : [13.432797 36.02193  30.961796 61.673935]\n",
      "Truth 2 : [41. 48. 57. 78.]\n",
      "Preds 2 : [44.845203 45.4346   63.320118 72.24437 ]\n",
      "Truth 3 : [ 76.  41. 104.  77.]\n",
      "Preds 3 : [77.30531  43.383907 99.86921  73.60605 ]\n",
      "Truth 4 : [114.  32. 121.  51.]\n",
      "Preds 4 : [113.76182   32.497906 125.10439   51.583923]\n"
     ]
    },
    {
     "data": {
      "image/jpeg": "[encoded data removed]",
      "image/png": "[encoded data removed]",
      "text/plain": [
       "<PIL.Image.Image image mode=RGB size=200x100>"
      ]
     },
     "metadata": {},
     "output_type": "display_data"
    }
   ],
   "source": [
    "x, y, image, answer = next(generate_captcha(return_image=True))\n",
    "y_pred = box_model.predict(x.reshape(-1, HEIGHT, WIDTH, 3))[0]\n",
    "draw_boxes(image, y, y_pred)"
   ]
  },
  {
   "cell_type": "code",
   "execution_count": 9,
   "id": "a24e5d3f-9d74-4d97-a7ed-866d5d56a802",
   "metadata": {},
   "outputs": [],
   "source": [
    "test_size = 1000"
   ]
  },
  {
   "cell_type": "code",
   "execution_count": 10,
   "id": "2d5d0d49-22a4-4d22-9a4f-3a927b2a372c",
   "metadata": {},
   "outputs": [
    {
     "name": "stdout",
     "output_type": "stream",
     "text": [
      "MAE per coordinate: 2.42 pixels\n"
     ]
    }
   ],
   "source": [
    "mae_total = 0\n",
    "for _ in range(test_size):\n",
    "    x, y_true, image, answer = next(generate_captcha(return_image=True))\n",
    "    y_pred = box_model.predict(x.reshape(1, HEIGHT, WIDTH, 3), verbose=False)[0]\n",
    "    y_true_px = unnormalize_boxes(y_true)\n",
    "    y_pred_px = unnormalize_boxes(y_pred)\n",
    "    mae_total += np.mean(np.abs(y_true_px - y_pred_px))\n",
    "mae = mae_total / test_size\n",
    "print(f\"MAE per coordinate: {mae:.2f} pixels\")"
   ]
  },
  {
   "cell_type": "code",
   "execution_count": 11,
   "id": "3df4f50a-f22b-41f7-93d0-f3d50dbb83c8",
   "metadata": {},
   "outputs": [
    {
     "name": "stdout",
     "output_type": "stream",
     "text": [
      "Average IoU: 0.65\n"
     ]
    }
   ],
   "source": [
    "def compute_iou(box1, box2):\n",
    "    x1 = max(box1[0], box2[0])\n",
    "    y1 = max(box1[1], box2[1])\n",
    "    x2 = min(box1[2], box2[2])\n",
    "    y2 = min(box1[3], box2[3])\n",
    "    inter_area = max(0, x2 - x1) * max(0, y2 - y1)\n",
    "    box1_area = (box1[2] - box1[0]) * (box1[3] - box1[1])\n",
    "    box2_area = (box2[2] - box2[0]) * (box2[3] - box2[1])\n",
    "    union_area = box1_area + box2_area - inter_area\n",
    "    return inter_area / union_area if union_area > 0 else 0\n",
    "\n",
    "# Then in your loop\n",
    "iou_scores = []\n",
    "for _ in range(test_size):\n",
    "    x, y_true, image, answer = next(generate_captcha(return_image=True))\n",
    "    y_pred = box_model.predict(x.reshape(1, HEIGHT, WIDTH, 3), verbose=False)[0]\n",
    "    y_true_px = unnormalize_boxes(y_true)\n",
    "    y_pred_px = unnormalize_boxes(y_pred)\n",
    "    for i in range(NUMCHARS):\n",
    "        b1 = y_true_px[4*i:4*(i+1)]\n",
    "        b2 = y_pred_px[4*i:4*(i+1)]\n",
    "        iou_scores.append(compute_iou(b1, b2))\n",
    "print(f\"Average IoU: {np.mean(iou_scores):.2f}\")"
   ]
  },
  {
   "cell_type": "code",
   "execution_count": 12,
   "id": "587ce5b7-45e6-40ad-b981-4628cbe8a41b",
   "metadata": {
    "scrolled": true
   },
   "outputs": [
    {
     "name": "stdout",
     "output_type": "stream",
     "text": [
      "Accuracy of 89.45 % with error margin of 5 pixels\n"
     ]
    }
   ],
   "source": [
    "# Evaluate the Bounding Box Regressor\n",
    "error_margin = 5\n",
    "count = 0\n",
    "\n",
    "for i in range(test_size):\n",
    "    x, y_true, image, answer = next(generate_captcha(return_image=True))\n",
    "    y_pred = box_model.predict(x.reshape(-1, HEIGHT, WIDTH, 3), verbose=False)[0]\n",
    "    y_true_px = unnormalize_boxes(y_true)\n",
    "    y_pred_px = unnormalize_boxes(y_pred)\n",
    "    count += np.sum(np.abs(y_true_px - y_pred_px) > error_margin)\n",
    "\n",
    "print(\"Accuracy of\", (test_size-count/16)*100/test_size, \"% with error margin of\", error_margin, \"pixels\")"
   ]
  },
  {
   "cell_type": "code",
   "execution_count": 13,
   "id": "bf8c3bcb-8bcc-49fd-a893-3d4829b071b7",
   "metadata": {},
   "outputs": [],
   "source": [
    "sym_model = tf.keras.models.load_model(\"../models/Symbol_Recognizer-200epochs.keras\")"
   ]
  },
  {
   "cell_type": "code",
   "execution_count": 14,
   "id": "c81a6da2-2ec8-4fae-9a19-402d2a497cc6",
   "metadata": {},
   "outputs": [
    {
     "name": "stdout",
     "output_type": "stream",
     "text": [
      "Accuracy: 75.5\n"
     ]
    }
   ],
   "source": [
    "def captcha_solver(image):\n",
    "    x = np.asarray(image).astype(np.float32) / 255.0\n",
    "    y_pred = box_model.predict(x.reshape(-1, HEIGHT, WIDTH, 3), verbose=False)[0]\n",
    "    boxes = unnormalize_boxes(y_pred)\n",
    "    sub_images = []\n",
    "    for i in range(NUMCHARS):\n",
    "        box = boxes[4*i:4*(i+1)]\n",
    "        sub_img = image.crop(box).resize((SYMBOL_SIZE, SYMBOL_SIZE))\n",
    "        tensor = np.asarray(sub_img).astype(np.float32) / 255.0\n",
    "        sub_images.append(tensor.reshape(SYMBOL_SIZE, SYMBOL_SIZE, 3))\n",
    "    batch = np.stack(sub_images)\n",
    "    preds = sym_model.predict(batch, verbose=False)\n",
    "    return ''.join(str(np.argmax(p)) for p in preds)\n",
    "\n",
    "count = 0\n",
    "for i in range(test_size):\n",
    "    x, y, image, answer = next(generate_captcha(return_image=True))\n",
    "    solve = captcha_solver(image)\n",
    "    if answer != solve:\n",
    "        count += 1\n",
    "\n",
    "print(\"Accuracy:\", (test_size-count)*100/test_size)"
   ]
  },
  {
   "cell_type": "code",
   "execution_count": 15,
   "id": "e866a961-1444-444d-bb05-c507ef19b6a4",
   "metadata": {},
   "outputs": [
    {
     "name": "stdout",
     "output_type": "stream",
     "text": [
      "Accuracy: 80.8\n"
     ]
    }
   ],
   "source": [
    "def expand_box(box, factor=0.05):\n",
    "    w, h = box[2] - box[0], box[3] - box[1]\n",
    "    x_margin = min(5, factor * w)\n",
    "    y_margin = min(5, factor * h)\n",
    "    bbox = box + [-x_margin, -y_margin, x_margin, y_margin]\n",
    "    return bbox\n",
    "\n",
    "def captcha_solver(image):\n",
    "    x = np.asarray(image).astype(np.float32) / 255.0\n",
    "    y_pred = box_model.predict(x.reshape(-1, HEIGHT, WIDTH, 3), verbose=False)[0]\n",
    "    boxes = unnormalize_boxes(y_pred)\n",
    "    sub_images = []\n",
    "    for i in range(NUMCHARS):\n",
    "        box = boxes[4*i:4*(i+1)]\n",
    "        sub_img = image.crop(expand_box(box)).resize((SYMBOL_SIZE, SYMBOL_SIZE))\n",
    "        tensor = np.asarray(sub_img).astype(np.float32) / 255.0\n",
    "        sub_images.append(tensor.reshape(SYMBOL_SIZE, SYMBOL_SIZE, 3))\n",
    "    batch = np.stack(sub_images)\n",
    "    preds = sym_model.predict(batch, verbose=False)\n",
    "    return ''.join(str(np.argmax(p)) for p in preds)\n",
    "\n",
    "count = 0\n",
    "for i in range(test_size):\n",
    "    x, y, image, answer = next(generate_captcha(return_image=True))\n",
    "    solve = captcha_solver(image)\n",
    "    if answer != solve:\n",
    "        count += 1\n",
    "\n",
    "print(\"Accuracy:\", (test_size-count)*100/test_size)"
   ]
  }
 ],
 "metadata": {
  "kernelspec": {
   "display_name": "Python 3 (ipykernel)",
   "language": "python",
   "name": "python3"
  },
  "language_info": {
   "codemirror_mode": {
    "name": "ipython",
    "version": 3
   },
   "file_extension": ".py",
   "mimetype": "text/x-python",
   "name": "python",
   "nbconvert_exporter": "python",
   "pygments_lexer": "ipython3",
   "version": "3.12.8"
  }
 },
 "nbformat": 4,
 "nbformat_minor": 5
}
