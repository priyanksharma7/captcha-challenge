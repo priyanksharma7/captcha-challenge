{
 "cells": [
  {
   "cell_type": "code",
   "execution_count": 1,
   "id": "98d41411-9e69-492e-946d-fa2075e173bf",
   "metadata": {},
   "outputs": [],
   "source": [
    "import os\n",
    "import numpy as np\n",
    "import tensorflow as tf\n",
    "from PIL import Image, ImageDraw, ImageFont\n",
    "from random import randrange\n",
    "from IPython.display import display"
   ]
  },
  {
   "cell_type": "code",
   "execution_count": 2,
   "id": "378aeedb-0287-4952-b7ed-6790aea9ef7e",
   "metadata": {},
   "outputs": [],
   "source": [
    "WIDTH       =   200\n",
    "HEIGHT      =   100\n",
    "MINX        =    20\n",
    "MINY        =    20\n",
    "MAXX        =    WIDTH-60\n",
    "MAXY        =    HEIGHT-60\n",
    "MINSIZE     =    24\n",
    "MAXSIZE     =    48\n",
    "NUMCHARS    =     4 # 4 character CAPTCHA\n",
    "SYMBOL_SIZE =    50\n",
    "SYMBOL_SET  =    \"0123456789\"\n",
    "NUM_SYMBOLS = len(SYMBOL_SET)"
   ]
  },
  {
   "cell_type": "code",
   "execution_count": 3,
   "id": "0048cae3-674e-406b-b067-cc91414cf766",
   "metadata": {},
   "outputs": [],
   "source": [
    "def generate_captcha(return_image=False):\n",
    "    fonts = [i for i in os.listdir(\"../fonts\") if i.endswith('.ttf')]\n",
    "    while True:\n",
    "        x_pos = 0\n",
    "        answer = ''\n",
    "        boxes = []\n",
    "        img = Image.new('RGB', (WIDTH, HEIGHT), color = (255,255,255))\n",
    "        canvas = ImageDraw.Draw(img)\n",
    "        for i in range(NUMCHARS):\n",
    "            font = ImageFont.truetype(f'../fonts/{fonts[randrange(len(fonts))]}', randrange(MINSIZE,MAXSIZE))\n",
    "            character = SYMBOL_SET[randrange(NUM_SYMBOLS)]\n",
    "            answer += character\n",
    "            x_pos += randrange(10, MINX)\n",
    "            y_pos = randrange(MINY, MAXY)\n",
    "            position = (x_pos, y_pos)\n",
    "            coords = canvas.textbbox(position, character, font)\n",
    "            canvas.text(position, character, font=font, fill=(0,0,0), anchor=\"la\")\n",
    "            boxes.append(coords)\n",
    "            x_pos = coords[2]\n",
    "        x = np.array(list(img.tobytes())).reshape(WIDTH, HEIGHT, 3).astype(np.float64)/255.0\n",
    "        \n",
    "        if return_image:\n",
    "            yield x, np.array(boxes).flatten(), img, answer\n",
    "        else:\n",
    "            yield x, np.array(boxes).flatten()"
   ]
  },
  {
   "cell_type": "code",
   "execution_count": 4,
   "id": "22d422d9-e4d3-4e82-b699-095a4bfbc043",
   "metadata": {},
   "outputs": [],
   "source": [
    "def draw_boxes(image, truth, pred=None):\n",
    "    canvas = ImageDraw.Draw(image)\n",
    "    truth = np.reshape(truth, (4,4))\n",
    "    if pred is not None:\n",
    "        pred = np.reshape(pred, (4,4))\n",
    "    for i in range(len(truth)):\n",
    "        canvas.rectangle(list(truth[i]), outline=(0, 255, 0), width=1)\n",
    "        if pred is not None:\n",
    "            canvas.rectangle(list(pred[i]), outline=(255 ,0 ,0), width=1)\n",
    "    display(image)"
   ]
  },
  {
   "cell_type": "code",
   "execution_count": 5,
   "id": "de66df38-cdf5-4b2c-a233-50d740a9d31f",
   "metadata": {},
   "outputs": [
    {
     "name": "stdout",
     "output_type": "stream",
     "text": [
      "(200, 100, 3)\n",
      "Bounding Boxes: [ 11  43  29  65  44  49  66  76  78  44 103  75 122  45 147  76] (16,)\n"
     ]
    },
    {
     "data": {
      "image/jpeg": "[encoded data removed]",
      "image/png": "[encoded data removed]",
      "text/plain": [
       "<PIL.Image.Image image mode=RGB size=200x100>"
      ]
     },
     "metadata": {},
     "output_type": "display_data"
    }
   ],
   "source": [
    "(x, y, image, answer) = next(generate_captcha(return_image=True))\n",
    "print(x.shape)\n",
    "print(\"Bounding Boxes:\", y, y.shape)\n",
    "draw_boxes(image, y)"
   ]
  },
  {
   "cell_type": "code",
   "execution_count": 6,
   "id": "97ca5353-2767-46de-b615-51dab492726a",
   "metadata": {},
   "outputs": [],
   "source": [
    "box_model = tf.keras.models.load_model(\"../models/BBox_Regressor-100epochs.keras\")"
   ]
  },
  {
   "cell_type": "code",
   "execution_count": 7,
   "id": "ae632b50-8a19-4bd1-8a02-d3a73146e563",
   "metadata": {},
   "outputs": [
    {
     "name": "stdout",
     "output_type": "stream",
     "text": [
      "\u001b[1m1/1\u001b[0m \u001b[32m━━━━━━━━━━━━━━━━━━━━\u001b[0m\u001b[37m\u001b[0m \u001b[1m0s\u001b[0m 141ms/step\n",
      "Truth: [ 13  44  51  71  67  38  85  65  97  39 107  58 123  42 132  59]\n",
      "Predicted: [ 16.160297  41.048     44.86048   70.61816   59.843533  39.174835\n",
      "  78.14416   64.55072   92.24501   36.788647 106.907486  60.382404\n",
      " 120.8978    38.19421  137.5872    62.21663 ]\n"
     ]
    },
    {
     "data": {
      "image/jpeg": "[encoded data removed]",
      "image/png": "[encoded data removed]",
      "text/plain": [
       "<PIL.Image.Image image mode=RGB size=200x100>"
      ]
     },
     "metadata": {},
     "output_type": "display_data"
    }
   ],
   "source": [
    "(x, y, image, answer) = next(generate_captcha(return_image=True))\n",
    "y_pred = box_model.predict(x.reshape(-1, WIDTH, HEIGHT, 3))[0]\n",
    "print(\"Truth:\", y)\n",
    "print(\"Predicted:\", y_pred)\n",
    "draw_boxes(image, y, y_pred)"
   ]
  },
  {
   "cell_type": "code",
   "execution_count": 8,
   "id": "70354de2-7a63-4f63-a7d4-97440fdcc8fb",
   "metadata": {},
   "outputs": [],
   "source": [
    "test_size = 1000"
   ]
  },
  {
   "cell_type": "code",
   "execution_count": 9,
   "id": "25f9e61e-aa50-43a4-bba1-91011e22a745",
   "metadata": {},
   "outputs": [
    {
     "name": "stdout",
     "output_type": "stream",
     "text": [
      "MAE per coordinate: 2.83 pixels\n"
     ]
    }
   ],
   "source": [
    "mae_total = 0\n",
    "for _ in range(test_size):\n",
    "    x, y_true, image, answer = next(generate_captcha(return_image=True))\n",
    "    y_pred = box_model.predict(x.reshape(1, WIDTH, HEIGHT, 3), verbose=False)[0]\n",
    "    mae_total += np.mean(np.abs(y_true - y_pred))\n",
    "mae = mae_total / test_size\n",
    "print(f\"MAE per coordinate: {mae:.2f} pixels\")"
   ]
  },
  {
   "cell_type": "code",
   "execution_count": 10,
   "id": "ab1952ba-41d3-4016-b973-2a1bc9d8be52",
   "metadata": {},
   "outputs": [
    {
     "name": "stdout",
     "output_type": "stream",
     "text": [
      "Average IoU: 0.61\n"
     ]
    }
   ],
   "source": [
    "def compute_iou(box1, box2):\n",
    "    x1 = max(box1[0], box2[0])\n",
    "    y1 = max(box1[1], box2[1])\n",
    "    x2 = min(box1[2], box2[2])\n",
    "    y2 = min(box1[3], box2[3])\n",
    "    inter_area = max(0, x2 - x1) * max(0, y2 - y1)\n",
    "    box1_area = (box1[2] - box1[0]) * (box1[3] - box1[1])\n",
    "    box2_area = (box2[2] - box2[0]) * (box2[3] - box2[1])\n",
    "    union_area = box1_area + box2_area - inter_area\n",
    "    return inter_area / union_area if union_area > 0 else 0\n",
    "\n",
    "# Then in your loop\n",
    "iou_scores = []\n",
    "for _ in range(test_size):\n",
    "    x, y_true, image, answer = next(generate_captcha(return_image=True))\n",
    "    y_pred = box_model.predict(x.reshape(1, WIDTH, HEIGHT, 3), verbose=False)[0]\n",
    "    for i in range(NUMCHARS):\n",
    "        b1 = y_true[4*i:4*(i+1)]\n",
    "        b2 = y_pred[4*i:4*(i+1)]\n",
    "        iou_scores.append(compute_iou(b1, b2))\n",
    "print(f\"Average IoU: {np.mean(iou_scores):.2f}\")"
   ]
  },
  {
   "cell_type": "code",
   "execution_count": 11,
   "id": "27df7c44-be49-4c28-91bd-adce37343424",
   "metadata": {},
   "outputs": [
    {
     "name": "stdout",
     "output_type": "stream",
     "text": [
      "Accuracy of 85.9375 % with error margin of 5 pixels\n"
     ]
    }
   ],
   "source": [
    "error_margin = 5\n",
    "count = 0\n",
    "\n",
    "for i in range(test_size):\n",
    "    x, y_true, image, answer = next(generate_captcha(return_image=True))\n",
    "    y_pred = box_model.predict(x.reshape(-1, WIDTH, HEIGHT, 3), verbose=False)[0]\n",
    "    count += np.sum(np.abs(y_true - y_pred) > error_margin)\n",
    "\n",
    "print(\"Accuracy of\", (test_size-count/16)*100/test_size, \"% with error margin of\", error_margin, \"pixels\")"
   ]
  },
  {
   "cell_type": "code",
   "execution_count": 12,
   "id": "0ca622fe-63b0-42d0-8096-482ff10298b6",
   "metadata": {},
   "outputs": [],
   "source": [
    "sym_model = tf.keras.models.load_model(\"../models/Symbol_Recognizer-100epochs.keras\")"
   ]
  },
  {
   "cell_type": "code",
   "execution_count": 13,
   "id": "28fe945c-f1aa-48e9-b657-417d5cbb11fa",
   "metadata": {},
   "outputs": [
    {
     "name": "stdout",
     "output_type": "stream",
     "text": [
      "Accuracy: 72.3\n"
     ]
    }
   ],
   "source": [
    "def captcha_solver(image):\n",
    "    x = np.asarray(image).astype(np.float32) / 255.0\n",
    "    boxes = box_model.predict(x.reshape(1, WIDTH, HEIGHT, 3), verbose=False)[0]\n",
    "    sub_images = []\n",
    "    for i in range(NUMCHARS):\n",
    "        box = boxes[4*i:4*(i+1)]\n",
    "        sub_img = image.crop(box).resize((SYMBOL_SIZE, SYMBOL_SIZE))\n",
    "        tensor = np.asarray(sub_img).astype(np.float32) / 255.0\n",
    "        sub_images.append(tensor.reshape(SYMBOL_SIZE, SYMBOL_SIZE, 3))\n",
    "    batch = np.stack(sub_images)\n",
    "    preds = sym_model.predict(batch, verbose=False)\n",
    "    return ''.join(str(np.argmax(p)) for p in preds)\n",
    "\n",
    "count = 0\n",
    "for i in range(test_size):\n",
    "    x, y, image, answer = next(generate_captcha(return_image=True))\n",
    "    solve = captcha_solver(image)\n",
    "    if answer != solve:\n",
    "        count += 1\n",
    "\n",
    "print(\"Accuracy:\", (test_size-count)*100/test_size)"
   ]
  }
 ],
 "metadata": {
  "kernelspec": {
   "display_name": "Python 3 (ipykernel)",
   "language": "python",
   "name": "python3"
  },
  "language_info": {
   "codemirror_mode": {
    "name": "ipython",
    "version": 3
   },
   "file_extension": ".py",
   "mimetype": "text/x-python",
   "name": "python",
   "nbconvert_exporter": "python",
   "pygments_lexer": "ipython3",
   "version": "3.12.8"
  }
 },
 "nbformat": 4,
 "nbformat_minor": 5
}
