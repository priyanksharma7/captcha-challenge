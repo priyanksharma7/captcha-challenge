{
 "cells": [
  {
   "cell_type": "markdown",
   "id": "3e9314e2-1039-4438-aae5-b601ae4ef8a4",
   "metadata": {},
   "source": [
    "# Part 2: Bounding Box Regressor\n",
    "Train a CNN to locate the 4 coordinates for each character in a given image"
   ]
  },
  {
   "cell_type": "code",
   "execution_count": 1,
   "id": "9ecadf06-7f6b-4bc3-832b-56f17654d840",
   "metadata": {},
   "outputs": [],
   "source": [
    "from os import listdir\n",
    "import datetime\n",
    "import numpy as np\n",
    "import tensorflow as tf\n",
    "from tensorflow.keras import layers, optimizers, models\n",
    "from PIL import Image, ImageDraw, ImageFont\n",
    "from random import randrange\n",
    "from IPython.display import display"
   ]
  },
  {
   "cell_type": "code",
   "execution_count": 2,
   "id": "7149f38a-b362-4998-99c0-149ce01bf187",
   "metadata": {},
   "outputs": [],
   "source": [
    "WIDTH       =   200\n",
    "HEIGHT      =   100\n",
    "MINX        =    20\n",
    "MINY        =    20\n",
    "MAXX        =    WIDTH-60\n",
    "MAXY        =    HEIGHT-60\n",
    "MINSIZE     =    24\n",
    "MAXSIZE     =    48\n",
    "NUMCHARS    =     4 # 4 character CAPTCHA\n",
    "SYMBOL_SIZE =    50\n",
    "SYMBOL_SET  =    \"0123456789\"\n",
    "NUM_SYMBOLS = len(SYMBOL_SET)"
   ]
  },
  {
   "cell_type": "code",
   "execution_count": 3,
   "id": "bc65f53c-dcb5-442f-ac72-75932265ee4d",
   "metadata": {},
   "outputs": [],
   "source": [
    "# Helper function for One-hot encoding a symbol\n",
    "def onehot(x):\n",
    "    b = np.zeros(NUM_SYMBOLS)\n",
    "    b[x] = 1\n",
    "    return b"
   ]
  },
  {
   "cell_type": "code",
   "execution_count": 4,
   "id": "b842a242-46bc-4aa0-9ef4-514df1855e82",
   "metadata": {},
   "outputs": [],
   "source": [
    "def generate_captcha(return_image=False):\n",
    "    fonts = [i for i in listdir(\"../fonts\") if i.endswith('.ttf')]\n",
    "    while True:\n",
    "        x_pos = 0\n",
    "        boxes = []\n",
    "        img = Image.new('RGB', (WIDTH, HEIGHT), color = (255,255,255))\n",
    "        canvas = ImageDraw.Draw(img)\n",
    "        for i in range(NUMCHARS):\n",
    "            font = ImageFont.truetype(f'../fonts/{fonts[randrange(len(fonts))]}', randrange(MINSIZE,MAXSIZE))\n",
    "            character = SYMBOL_SET[randrange(NUM_SYMBOLS)]\n",
    "            x_pos += randrange(10, MINX)\n",
    "            y_pos = randrange(MINY, MAXY)\n",
    "            position = (x_pos, y_pos)\n",
    "            coords = canvas.textbbox(position, character, font)\n",
    "            canvas.text(position, character, font=font, fill=(0,0,0), anchor=\"la\")\n",
    "            boxes.append(coords)\n",
    "            x_pos = coords[2]\n",
    "        x = np.array(list(img.tobytes())).reshape(WIDTH, HEIGHT, 3).astype(np.float64)/255.0\n",
    "        \n",
    "        if return_image:\n",
    "            yield x, np.array(boxes).flatten(), img\n",
    "        else:\n",
    "            yield x, np.array(boxes).flatten()"
   ]
  },
  {
   "cell_type": "code",
   "execution_count": 5,
   "id": "1316110c-4641-423e-87fb-9e942f72a650",
   "metadata": {},
   "outputs": [],
   "source": [
    "def draw_boxes(image, truth, pred=None):\n",
    "    canvas = ImageDraw.Draw(image)\n",
    "    truth = np.reshape(truth, (4,4))\n",
    "    if pred is not None:\n",
    "        pred = np.reshape(pred, (4,4))\n",
    "    for i in range(len(truth)):\n",
    "        canvas.rectangle(list(truth[i]), outline=(0, 255, 0), width=1)\n",
    "        if pred is not None:\n",
    "            canvas.rectangle(list(pred[i]), outline=(255 ,0 ,0), width=1)\n",
    "    display(image)"
   ]
  },
  {
   "cell_type": "code",
   "execution_count": 6,
   "id": "5342f317-4ffe-4c20-9a61-1cd95c686af6",
   "metadata": {},
   "outputs": [
    {
     "name": "stdout",
     "output_type": "stream",
     "text": [
      "Bounding Boxes: [ 15  42  41  76  59  24  78  50  96  44 105  61 115  35 136  64] (16,)\n"
     ]
    },
    {
     "data": {
      "image/jpeg": "[encoded data removed]",
      "image/png": "[encoded data removed]",
      "text/plain": [
       "<PIL.Image.Image image mode=RGB size=200x100>"
      ]
     },
     "metadata": {},
     "output_type": "display_data"
    }
   ],
   "source": [
    "(x, y, image) = next(generate_captcha(return_image=True))\n",
    "print(\"Bounding Boxes:\", y, y.shape)\n",
    "draw_boxes(image, y)"
   ]
  },
  {
   "cell_type": "code",
   "execution_count": 7,
   "id": "2185dae7-7852-40e2-9b0a-827a73661d0a",
   "metadata": {},
   "outputs": [],
   "source": [
    "box_dataset = tf.data.Dataset.from_generator(generate_captcha,\n",
    "            output_signature=(tf.TensorSpec(shape=(WIDTH, HEIGHT, 3), dtype=tf.float64),\n",
    "                             tf.TensorSpec(shape=(4*NUMCHARS,), dtype=tf.float32)\n",
    "                             ))\n",
    "box_dataset = box_dataset.batch(batch_size=32)"
   ]
  },
  {
   "cell_type": "code",
   "execution_count": 8,
   "id": "e0d6c810-7e9c-44bf-971e-bb1aa35c77b5",
   "metadata": {},
   "outputs": [
    {
     "data": {
      "text/html": [
       "<pre style=\"white-space:pre;overflow-x:auto;line-height:normal;font-family:Menlo,'DejaVu Sans Mono',consolas,'Courier New',monospace\"><span style=\"font-weight: bold\">Model: \"sequential\"</span>\n",
       "</pre>\n"
      ],
      "text/plain": [
       "\u001b[1mModel: \"sequential\"\u001b[0m\n"
      ]
     },
     "metadata": {},
     "output_type": "display_data"
    },
    {
     "data": {
      "text/html": [
       "<pre style=\"white-space:pre;overflow-x:auto;line-height:normal;font-family:Menlo,'DejaVu Sans Mono',consolas,'Courier New',monospace\">┏━━━━━━━━━━━━━━━━━━━━━━━━━━━━━━━━━━━━━━┳━━━━━━━━━━━━━━━━━━━━━━━━━━━━━┳━━━━━━━━━━━━━━━━━┓\n",
       "┃<span style=\"font-weight: bold\"> Layer (type)                         </span>┃<span style=\"font-weight: bold\"> Output Shape                </span>┃<span style=\"font-weight: bold\">         Param # </span>┃\n",
       "┡━━━━━━━━━━━━━━━━━━━━━━━━━━━━━━━━━━━━━━╇━━━━━━━━━━━━━━━━━━━━━━━━━━━━━╇━━━━━━━━━━━━━━━━━┩\n",
       "│ conv2d (<span style=\"color: #0087ff; text-decoration-color: #0087ff\">Conv2D</span>)                      │ (<span style=\"color: #00d7ff; text-decoration-color: #00d7ff\">None</span>, <span style=\"color: #00af00; text-decoration-color: #00af00\">198</span>, <span style=\"color: #00af00; text-decoration-color: #00af00\">98</span>, <span style=\"color: #00af00; text-decoration-color: #00af00\">8</span>)          │             <span style=\"color: #00af00; text-decoration-color: #00af00\">224</span> │\n",
       "├──────────────────────────────────────┼─────────────────────────────┼─────────────────┤\n",
       "│ max_pooling2d (<span style=\"color: #0087ff; text-decoration-color: #0087ff\">MaxPooling2D</span>)         │ (<span style=\"color: #00d7ff; text-decoration-color: #00d7ff\">None</span>, <span style=\"color: #00af00; text-decoration-color: #00af00\">99</span>, <span style=\"color: #00af00; text-decoration-color: #00af00\">49</span>, <span style=\"color: #00af00; text-decoration-color: #00af00\">8</span>)           │               <span style=\"color: #00af00; text-decoration-color: #00af00\">0</span> │\n",
       "├──────────────────────────────────────┼─────────────────────────────┼─────────────────┤\n",
       "│ conv2d_1 (<span style=\"color: #0087ff; text-decoration-color: #0087ff\">Conv2D</span>)                    │ (<span style=\"color: #00d7ff; text-decoration-color: #00d7ff\">None</span>, <span style=\"color: #00af00; text-decoration-color: #00af00\">97</span>, <span style=\"color: #00af00; text-decoration-color: #00af00\">47</span>, <span style=\"color: #00af00; text-decoration-color: #00af00\">32</span>)          │           <span style=\"color: #00af00; text-decoration-color: #00af00\">2,336</span> │\n",
       "├──────────────────────────────────────┼─────────────────────────────┼─────────────────┤\n",
       "│ max_pooling2d_1 (<span style=\"color: #0087ff; text-decoration-color: #0087ff\">MaxPooling2D</span>)       │ (<span style=\"color: #00d7ff; text-decoration-color: #00d7ff\">None</span>, <span style=\"color: #00af00; text-decoration-color: #00af00\">48</span>, <span style=\"color: #00af00; text-decoration-color: #00af00\">23</span>, <span style=\"color: #00af00; text-decoration-color: #00af00\">32</span>)          │               <span style=\"color: #00af00; text-decoration-color: #00af00\">0</span> │\n",
       "├──────────────────────────────────────┼─────────────────────────────┼─────────────────┤\n",
       "│ conv2d_2 (<span style=\"color: #0087ff; text-decoration-color: #0087ff\">Conv2D</span>)                    │ (<span style=\"color: #00d7ff; text-decoration-color: #00d7ff\">None</span>, <span style=\"color: #00af00; text-decoration-color: #00af00\">46</span>, <span style=\"color: #00af00; text-decoration-color: #00af00\">21</span>, <span style=\"color: #00af00; text-decoration-color: #00af00\">64</span>)          │          <span style=\"color: #00af00; text-decoration-color: #00af00\">18,496</span> │\n",
       "├──────────────────────────────────────┼─────────────────────────────┼─────────────────┤\n",
       "│ max_pooling2d_2 (<span style=\"color: #0087ff; text-decoration-color: #0087ff\">MaxPooling2D</span>)       │ (<span style=\"color: #00d7ff; text-decoration-color: #00d7ff\">None</span>, <span style=\"color: #00af00; text-decoration-color: #00af00\">23</span>, <span style=\"color: #00af00; text-decoration-color: #00af00\">10</span>, <span style=\"color: #00af00; text-decoration-color: #00af00\">64</span>)          │               <span style=\"color: #00af00; text-decoration-color: #00af00\">0</span> │\n",
       "├──────────────────────────────────────┼─────────────────────────────┼─────────────────┤\n",
       "│ flatten (<span style=\"color: #0087ff; text-decoration-color: #0087ff\">Flatten</span>)                    │ (<span style=\"color: #00d7ff; text-decoration-color: #00d7ff\">None</span>, <span style=\"color: #00af00; text-decoration-color: #00af00\">14720</span>)               │               <span style=\"color: #00af00; text-decoration-color: #00af00\">0</span> │\n",
       "├──────────────────────────────────────┼─────────────────────────────┼─────────────────┤\n",
       "│ dense (<span style=\"color: #0087ff; text-decoration-color: #0087ff\">Dense</span>)                        │ (<span style=\"color: #00d7ff; text-decoration-color: #00d7ff\">None</span>, <span style=\"color: #00af00; text-decoration-color: #00af00\">128</span>)                 │       <span style=\"color: #00af00; text-decoration-color: #00af00\">1,884,288</span> │\n",
       "├──────────────────────────────────────┼─────────────────────────────┼─────────────────┤\n",
       "│ dropout (<span style=\"color: #0087ff; text-decoration-color: #0087ff\">Dropout</span>)                    │ (<span style=\"color: #00d7ff; text-decoration-color: #00d7ff\">None</span>, <span style=\"color: #00af00; text-decoration-color: #00af00\">128</span>)                 │               <span style=\"color: #00af00; text-decoration-color: #00af00\">0</span> │\n",
       "├──────────────────────────────────────┼─────────────────────────────┼─────────────────┤\n",
       "│ dense_1 (<span style=\"color: #0087ff; text-decoration-color: #0087ff\">Dense</span>)                      │ (<span style=\"color: #00d7ff; text-decoration-color: #00d7ff\">None</span>, <span style=\"color: #00af00; text-decoration-color: #00af00\">64</span>)                  │           <span style=\"color: #00af00; text-decoration-color: #00af00\">8,256</span> │\n",
       "├──────────────────────────────────────┼─────────────────────────────┼─────────────────┤\n",
       "│ dropout_1 (<span style=\"color: #0087ff; text-decoration-color: #0087ff\">Dropout</span>)                  │ (<span style=\"color: #00d7ff; text-decoration-color: #00d7ff\">None</span>, <span style=\"color: #00af00; text-decoration-color: #00af00\">64</span>)                  │               <span style=\"color: #00af00; text-decoration-color: #00af00\">0</span> │\n",
       "├──────────────────────────────────────┼─────────────────────────────┼─────────────────┤\n",
       "│ dense_2 (<span style=\"color: #0087ff; text-decoration-color: #0087ff\">Dense</span>)                      │ (<span style=\"color: #00d7ff; text-decoration-color: #00d7ff\">None</span>, <span style=\"color: #00af00; text-decoration-color: #00af00\">16</span>)                  │           <span style=\"color: #00af00; text-decoration-color: #00af00\">1,040</span> │\n",
       "└──────────────────────────────────────┴─────────────────────────────┴─────────────────┘\n",
       "</pre>\n"
      ],
      "text/plain": [
       "┏━━━━━━━━━━━━━━━━━━━━━━━━━━━━━━━━━━━━━━┳━━━━━━━━━━━━━━━━━━━━━━━━━━━━━┳━━━━━━━━━━━━━━━━━┓\n",
       "┃\u001b[1m \u001b[0m\u001b[1mLayer (type)                        \u001b[0m\u001b[1m \u001b[0m┃\u001b[1m \u001b[0m\u001b[1mOutput Shape               \u001b[0m\u001b[1m \u001b[0m┃\u001b[1m \u001b[0m\u001b[1m        Param #\u001b[0m\u001b[1m \u001b[0m┃\n",
       "┡━━━━━━━━━━━━━━━━━━━━━━━━━━━━━━━━━━━━━━╇━━━━━━━━━━━━━━━━━━━━━━━━━━━━━╇━━━━━━━━━━━━━━━━━┩\n",
       "│ conv2d (\u001b[38;5;33mConv2D\u001b[0m)                      │ (\u001b[38;5;45mNone\u001b[0m, \u001b[38;5;34m198\u001b[0m, \u001b[38;5;34m98\u001b[0m, \u001b[38;5;34m8\u001b[0m)          │             \u001b[38;5;34m224\u001b[0m │\n",
       "├──────────────────────────────────────┼─────────────────────────────┼─────────────────┤\n",
       "│ max_pooling2d (\u001b[38;5;33mMaxPooling2D\u001b[0m)         │ (\u001b[38;5;45mNone\u001b[0m, \u001b[38;5;34m99\u001b[0m, \u001b[38;5;34m49\u001b[0m, \u001b[38;5;34m8\u001b[0m)           │               \u001b[38;5;34m0\u001b[0m │\n",
       "├──────────────────────────────────────┼─────────────────────────────┼─────────────────┤\n",
       "│ conv2d_1 (\u001b[38;5;33mConv2D\u001b[0m)                    │ (\u001b[38;5;45mNone\u001b[0m, \u001b[38;5;34m97\u001b[0m, \u001b[38;5;34m47\u001b[0m, \u001b[38;5;34m32\u001b[0m)          │           \u001b[38;5;34m2,336\u001b[0m │\n",
       "├──────────────────────────────────────┼─────────────────────────────┼─────────────────┤\n",
       "│ max_pooling2d_1 (\u001b[38;5;33mMaxPooling2D\u001b[0m)       │ (\u001b[38;5;45mNone\u001b[0m, \u001b[38;5;34m48\u001b[0m, \u001b[38;5;34m23\u001b[0m, \u001b[38;5;34m32\u001b[0m)          │               \u001b[38;5;34m0\u001b[0m │\n",
       "├──────────────────────────────────────┼─────────────────────────────┼─────────────────┤\n",
       "│ conv2d_2 (\u001b[38;5;33mConv2D\u001b[0m)                    │ (\u001b[38;5;45mNone\u001b[0m, \u001b[38;5;34m46\u001b[0m, \u001b[38;5;34m21\u001b[0m, \u001b[38;5;34m64\u001b[0m)          │          \u001b[38;5;34m18,496\u001b[0m │\n",
       "├──────────────────────────────────────┼─────────────────────────────┼─────────────────┤\n",
       "│ max_pooling2d_2 (\u001b[38;5;33mMaxPooling2D\u001b[0m)       │ (\u001b[38;5;45mNone\u001b[0m, \u001b[38;5;34m23\u001b[0m, \u001b[38;5;34m10\u001b[0m, \u001b[38;5;34m64\u001b[0m)          │               \u001b[38;5;34m0\u001b[0m │\n",
       "├──────────────────────────────────────┼─────────────────────────────┼─────────────────┤\n",
       "│ flatten (\u001b[38;5;33mFlatten\u001b[0m)                    │ (\u001b[38;5;45mNone\u001b[0m, \u001b[38;5;34m14720\u001b[0m)               │               \u001b[38;5;34m0\u001b[0m │\n",
       "├──────────────────────────────────────┼─────────────────────────────┼─────────────────┤\n",
       "│ dense (\u001b[38;5;33mDense\u001b[0m)                        │ (\u001b[38;5;45mNone\u001b[0m, \u001b[38;5;34m128\u001b[0m)                 │       \u001b[38;5;34m1,884,288\u001b[0m │\n",
       "├──────────────────────────────────────┼─────────────────────────────┼─────────────────┤\n",
       "│ dropout (\u001b[38;5;33mDropout\u001b[0m)                    │ (\u001b[38;5;45mNone\u001b[0m, \u001b[38;5;34m128\u001b[0m)                 │               \u001b[38;5;34m0\u001b[0m │\n",
       "├──────────────────────────────────────┼─────────────────────────────┼─────────────────┤\n",
       "│ dense_1 (\u001b[38;5;33mDense\u001b[0m)                      │ (\u001b[38;5;45mNone\u001b[0m, \u001b[38;5;34m64\u001b[0m)                  │           \u001b[38;5;34m8,256\u001b[0m │\n",
       "├──────────────────────────────────────┼─────────────────────────────┼─────────────────┤\n",
       "│ dropout_1 (\u001b[38;5;33mDropout\u001b[0m)                  │ (\u001b[38;5;45mNone\u001b[0m, \u001b[38;5;34m64\u001b[0m)                  │               \u001b[38;5;34m0\u001b[0m │\n",
       "├──────────────────────────────────────┼─────────────────────────────┼─────────────────┤\n",
       "│ dense_2 (\u001b[38;5;33mDense\u001b[0m)                      │ (\u001b[38;5;45mNone\u001b[0m, \u001b[38;5;34m16\u001b[0m)                  │           \u001b[38;5;34m1,040\u001b[0m │\n",
       "└──────────────────────────────────────┴─────────────────────────────┴─────────────────┘\n"
      ]
     },
     "metadata": {},
     "output_type": "display_data"
    },
    {
     "data": {
      "text/html": [
       "<pre style=\"white-space:pre;overflow-x:auto;line-height:normal;font-family:Menlo,'DejaVu Sans Mono',consolas,'Courier New',monospace\"><span style=\"font-weight: bold\"> Total params: </span><span style=\"color: #00af00; text-decoration-color: #00af00\">5,743,922</span> (21.91 MB)\n",
       "</pre>\n"
      ],
      "text/plain": [
       "\u001b[1m Total params: \u001b[0m\u001b[38;5;34m5,743,922\u001b[0m (21.91 MB)\n"
      ]
     },
     "metadata": {},
     "output_type": "display_data"
    },
    {
     "data": {
      "text/html": [
       "<pre style=\"white-space:pre;overflow-x:auto;line-height:normal;font-family:Menlo,'DejaVu Sans Mono',consolas,'Courier New',monospace\"><span style=\"font-weight: bold\"> Trainable params: </span><span style=\"color: #00af00; text-decoration-color: #00af00\">1,914,640</span> (7.30 MB)\n",
       "</pre>\n"
      ],
      "text/plain": [
       "\u001b[1m Trainable params: \u001b[0m\u001b[38;5;34m1,914,640\u001b[0m (7.30 MB)\n"
      ]
     },
     "metadata": {},
     "output_type": "display_data"
    },
    {
     "data": {
      "text/html": [
       "<pre style=\"white-space:pre;overflow-x:auto;line-height:normal;font-family:Menlo,'DejaVu Sans Mono',consolas,'Courier New',monospace\"><span style=\"font-weight: bold\"> Non-trainable params: </span><span style=\"color: #00af00; text-decoration-color: #00af00\">0</span> (0.00 B)\n",
       "</pre>\n"
      ],
      "text/plain": [
       "\u001b[1m Non-trainable params: \u001b[0m\u001b[38;5;34m0\u001b[0m (0.00 B)\n"
      ]
     },
     "metadata": {},
     "output_type": "display_data"
    },
    {
     "data": {
      "text/html": [
       "<pre style=\"white-space:pre;overflow-x:auto;line-height:normal;font-family:Menlo,'DejaVu Sans Mono',consolas,'Courier New',monospace\"><span style=\"font-weight: bold\"> Optimizer params: </span><span style=\"color: #00af00; text-decoration-color: #00af00\">3,829,282</span> (14.61 MB)\n",
       "</pre>\n"
      ],
      "text/plain": [
       "\u001b[1m Optimizer params: \u001b[0m\u001b[38;5;34m3,829,282\u001b[0m (14.61 MB)\n"
      ]
     },
     "metadata": {},
     "output_type": "display_data"
    }
   ],
   "source": [
    "PATH = './logs/box_regressor/'\n",
    "log_dir = PATH + datetime.datetime.now().strftime(\"%Y%m%d-%H%M%S\")\n",
    "tensorboard_callback = tf.keras.callbacks.TensorBoard(log_dir=log_dir, histogram_freq=1)\n",
    "\n",
    "box_model = models.Sequential()\n",
    "box_model.add(layers.Input(shape=(WIDTH, HEIGHT, 3)))\n",
    "box_model.add(layers.Conv2D(8,(3,3),activation='relu'))\n",
    "box_model.add(layers.MaxPooling2D(pool_size=(2,2)))\n",
    "box_model.add(layers.Conv2D(32,(3,3),activation='relu'))\n",
    "box_model.add(layers.MaxPooling2D(pool_size=(2,2)))\n",
    "box_model.add(layers.Conv2D(64,(3,3),activation='relu'))\n",
    "box_model.add(layers.MaxPooling2D(pool_size=(2,2)))\n",
    "box_model.add(layers.Flatten())\n",
    "box_model.add(layers.Dense(128, activation='relu'))\n",
    "box_model.add(layers.Dropout(0.25))\n",
    "box_model.add(layers.Dense(64, activation='relu'))\n",
    "box_model.add(layers.Dropout(0.25))\n",
    "box_model.add(layers.Dense(4*NUMCHARS, activation='relu'))\n",
    "\n",
    "box_model.compile(loss='mse', optimizer='adam', metrics=['accuracy'])\n",
    "box_history = box_model.fit(box_dataset, epochs=100, steps_per_epoch=500, callbacks=[tensorboard_callback])\n",
    "box_model.save(\"../models/BBox_Regressor-100epochs.keras\")\n",
    "# box_model = models.load_model(\"../models/BBox_Regressor-100epochs.keras\")\n",
    "box_model.summary()"
   ]
  },
  {
   "cell_type": "code",
   "execution_count": 9,
   "id": "c4162145-ddf3-490c-a589-50b24c04ded6",
   "metadata": {},
   "outputs": [
    {
     "name": "stdout",
     "output_type": "stream",
     "text": [
      "\u001b[1m1/1\u001b[0m \u001b[32m━━━━━━━━━━━━━━━━━━━━\u001b[0m\u001b[37m\u001b[0m \u001b[1m0s\u001b[0m 163ms/step\n",
      "Truth: [ 11  40  33  71  47  28  55  44  70  38  83  58  94  37 117  66]\n",
      "Predicted: [ 13.779058  42.24375   29.88258   66.75161   43.04905   28.182205\n",
      "  55.351753  47.66092   68.429085  36.805397  83.517395  59.919373\n",
      "  96.662346  39.95809  114.78133   64.63495 ]\n"
     ]
    },
    {
     "data": {
      "image/jpeg": "[encoded data removed]",
      "image/png": "[encoded data removed]",
      "text/plain": [
       "<PIL.Image.Image image mode=RGB size=200x100>"
      ]
     },
     "metadata": {},
     "output_type": "display_data"
    }
   ],
   "source": [
    "(x, y, image) = next(generate_captcha(return_image=True))\n",
    "y_pred = box_model.predict(x.reshape(-1, WIDTH, HEIGHT, 3))[0]\n",
    "print(\"Truth:\", y)\n",
    "print(\"Predicted:\", y_pred)\n",
    "draw_boxes(image, y, y_pred)"
   ]
  },
  {
   "cell_type": "code",
   "execution_count": 10,
   "id": "587ce5b7-45e6-40ad-b981-4628cbe8a41b",
   "metadata": {
    "scrolled": true
   },
   "outputs": [
    {
     "name": "stdout",
     "output_type": "stream",
     "text": [
      "Accuracy of 90.325 % with error margin of 5 pixels\n"
     ]
    }
   ],
   "source": [
    "# Evaluate the Bounding Box Regressor\n",
    "error_margin = 5\n",
    "test_size = 1000\n",
    "count = 0\n",
    "\n",
    "for i in range(test_size):\n",
    "    (x, y, image) = next(generate_captcha(return_image=True))\n",
    "    y_pred = box_model.predict(x.reshape(-1, WIDTH, HEIGHT, 3), verbose=False)[0]\n",
    "    for i in range(4):\n",
    "        if abs(y[i]-y_pred[i]) > error_margin:\n",
    "            count += 1\n",
    "print(\"Accuracy of\", (test_size-count/4)*100/test_size, \"% with error margin of\", error_margin, \"pixels\")"
   ]
  }
 ],
 "metadata": {
  "kernelspec": {
   "display_name": "Python 3 (ipykernel)",
   "language": "python",
   "name": "python3"
  },
  "language_info": {
   "codemirror_mode": {
    "name": "ipython",
    "version": 3
   },
   "file_extension": ".py",
   "mimetype": "text/x-python",
   "name": "python",
   "nbconvert_exporter": "python",
   "pygments_lexer": "ipython3",
   "version": "3.12.8"
  }
 },
 "nbformat": 4,
 "nbformat_minor": 5
}
